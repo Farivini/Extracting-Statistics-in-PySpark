{
  "nbformat": 4,
  "nbformat_minor": 0,
  "metadata": {
    "colab": {
      "private_outputs": true,
      "provenance": [],
      "authorship_tag": "ABX9TyPcWdYrJ1K9kiWSaL1DcV8v",
      "include_colab_link": true
    },
    "kernelspec": {
      "name": "python3",
      "display_name": "Python 3"
    },
    "language_info": {
      "name": "python"
    }
  },
  "cells": [
    {
      "cell_type": "markdown",
      "metadata": {
        "id": "view-in-github",
        "colab_type": "text"
      },
      "source": [
        "<a href=\"https://colab.research.google.com/github/Farivini/Extracting-Statistics-in-PySpark/blob/main/Analises_descritivas_pyspark.ipynb\" target=\"_parent\"><img src=\"https://colab.research.google.com/assets/colab-badge.svg\" alt=\"Open In Colab\"/></a>"
      ]
    },
    {
      "cell_type": "code",
      "execution_count": null,
      "metadata": {
        "collapsed": true,
        "id": "9CYBWxb0kIBp"
      },
      "outputs": [],
      "source": [
        "!pip install pyspark"
      ]
    },
    {
      "cell_type": "code",
      "source": [
        "!pip install kaggle"
      ],
      "metadata": {
        "collapsed": true,
        "id": "NvESsoIgkfyh"
      },
      "execution_count": null,
      "outputs": []
    },
    {
      "cell_type": "code",
      "source": [],
      "metadata": {
        "id": "hS0cKDI6lSpG"
      },
      "execution_count": null,
      "outputs": []
    },
    {
      "cell_type": "code",
      "source": [
        "from google.colab import files\n",
        "files.upload()"
      ],
      "metadata": {
        "id": "dMr3CA0dkqHy"
      },
      "execution_count": null,
      "outputs": []
    },
    {
      "cell_type": "code",
      "source": [
        "!mkdir -p ~/.kaggle\n",
        "!cp kaggle.json ~/.kaggle/\n",
        "!chmod 600 ~/.kaggle/kaggle.json\n",
        "\n",
        "# Baixar o dataset do Kaggle\n",
        "!kaggle datasets download -d camnugent/sandp500\n",
        "!unzip sandp500.zip"
      ],
      "metadata": {
        "collapsed": true,
        "id": "JztdXCBblam0"
      },
      "execution_count": null,
      "outputs": []
    },
    {
      "cell_type": "code",
      "source": [
        "from pyspark.sql import SparkSession\n",
        "from pyspark.sql.functions import length, col, countDistinct\n",
        "\n"
      ],
      "metadata": {
        "id": "re-JWLQSljLF"
      },
      "execution_count": null,
      "outputs": []
    },
    {
      "cell_type": "code",
      "source": [
        "spark= SparkSession.builder.master(\"local[*]\").getOrCreate()"
      ],
      "metadata": {
        "id": "3YFY6kh98Dzf"
      },
      "execution_count": null,
      "outputs": []
    },
    {
      "cell_type": "code",
      "source": [
        "df = spark.read.csv(\"/content/all_stocks_5yr.csv\", header=True)"
      ],
      "metadata": {
        "id": "NJe7W8cClwKO"
      },
      "execution_count": null,
      "outputs": []
    },
    {
      "cell_type": "code",
      "source": [
        "df.show()"
      ],
      "metadata": {
        "id": "Ye2kk2YDl1Ha"
      },
      "execution_count": null,
      "outputs": []
    },
    {
      "cell_type": "markdown",
      "source": [
        "### Descrição sobre o dataset"
      ],
      "metadata": {
        "id": "hqfTguK3noh3"
      }
    },
    {
      "cell_type": "code",
      "source": [
        "df.describe().show()"
      ],
      "metadata": {
        "id": "i7VHIfhgl6OA"
      },
      "execution_count": null,
      "outputs": []
    },
    {
      "cell_type": "markdown",
      "source": [
        "### Registro sobre a apple"
      ],
      "metadata": {
        "id": "rHrsUXOwntT-"
      }
    },
    {
      "cell_type": "code",
      "source": [
        "aapl = df.filter(df.Name == \"AAPL\")\n",
        "aapl_cont = aapl.count()\n",
        "print(aapl_cont)"
      ],
      "metadata": {
        "id": "XFL9kwbbmwiy"
      },
      "execution_count": null,
      "outputs": []
    },
    {
      "cell_type": "markdown",
      "source": [
        "### Empresas distintas"
      ],
      "metadata": {
        "id": "uL3zuLBOoDma"
      }
    },
    {
      "cell_type": "code",
      "source": [
        "empresas_distintas = df.select(\"Name\").distinct().count()\n",
        "print(empresas_distintas)"
      ],
      "metadata": {
        "id": "2jm2jA-6n6-1"
      },
      "execution_count": null,
      "outputs": []
    },
    {
      "cell_type": "markdown",
      "source": [
        "### Frequencia com que o preço de uma ação no fechamento é maior que o preço na abertura"
      ],
      "metadata": {
        "id": "nEE4xoTmoVVf"
      }
    },
    {
      "cell_type": "code",
      "source": [
        "# filtro para fechamentos maior\n",
        "fechamento_maior_abertura = df.filter(df.close > df.open)\n",
        "contagem_maior_abertura = fechamento_maior_abertura.count()\n",
        "total = df.count()\n",
        "frequencia_maior_abertura = contagem_maior_abertura / total\n",
        "print(frequencia_maior_abertura*100)"
      ],
      "metadata": {
        "id": "bRDc6X4upO4t"
      },
      "execution_count": null,
      "outputs": []
    },
    {
      "cell_type": "markdown",
      "source": [
        "### Qual o maior valor das ações da Apple (AAPL) na Historia ?"
      ],
      "metadata": {
        "id": "WxMowhwyq8Y9"
      }
    },
    {
      "cell_type": "code",
      "source": [
        "aapl_max = aapl.agg({\"High\": \"max\"}).collect()[0][0]\n",
        "print(aapl_max)"
      ],
      "metadata": {
        "id": "LB71Vhldq6aM"
      },
      "execution_count": null,
      "outputs": []
    },
    {
      "cell_type": "code",
      "source": [
        "apple_maximo = df.filter(df.Name == \"AAPL\")\n",
        "apple_maximo.describe().show()"
      ],
      "metadata": {
        "id": "-ZXYCxQw9IS8"
      },
      "execution_count": null,
      "outputs": []
    },
    {
      "cell_type": "markdown",
      "source": [
        "### Qual ação tem a maior volatilidade?"
      ],
      "metadata": {
        "id": "uIkTqdLBrvlu"
      }
    },
    {
      "cell_type": "markdown",
      "source": [
        "## Vamos calcular o desvio padrão e depois ordenar e pegar o nome e a maior volatilidade\n",
        "\n",
        "---\n",
        "\n"
      ],
      "metadata": {
        "id": "Tj5ORuUMsB77"
      }
    },
    {
      "cell_type": "code",
      "source": [
        "from pyspark.sql.functions import stddev, col\n",
        "\n",
        "# Calcular o desvio padrão do preço de fechamento para cada ação\n",
        "volatilidade = df.groupBy('Name').agg(stddev('Close').alias('Volatility'))\n",
        "# Ordenar as ações pela maior volatilidade\n",
        "ordena_volatilidade = volatilidade.orderBy(col('Volatility').desc()).first()\n",
        "\n",
        "# Mostrar a ação com a maior volatilidade e o valor da volatilidade\n",
        "print(f\"A ação com a maior volatilidade é {ordena_volatilidade['Name']} com uma volatilidade de {ordena_volatilidade['Volatility']:.2f}\")\n"
      ],
      "metadata": {
        "id": "30Tg-oXKsFO3"
      },
      "execution_count": null,
      "outputs": []
    },
    {
      "cell_type": "markdown",
      "source": [
        "### Qual dia com maior volume total de negociação da bolsa"
      ],
      "metadata": {
        "id": "0MY6nLqAvehY"
      }
    },
    {
      "cell_type": "code",
      "source": [
        "maior_dia = df.groupBy('date').agg({'volume': 'sum'}).orderBy(col('sum(volume)').desc()).first()\n",
        "maior_dia"
      ],
      "metadata": {
        "id": "EbvsLokctaAt"
      },
      "execution_count": null,
      "outputs": []
    },
    {
      "cell_type": "markdown",
      "source": [
        "### Qual a ação mais negociada da bolsa , em volume"
      ],
      "metadata": {
        "id": "6pBfbf7IxWa6"
      }
    },
    {
      "cell_type": "code",
      "source": [
        "maior_acao = df.groupBy('Name').agg({'volume': 'sum'}).orderBy(col('sum(volume)').desc()).first()\n",
        "maior_acao"
      ],
      "metadata": {
        "id": "Vvf07dKFxcLc"
      },
      "execution_count": null,
      "outputs": []
    },
    {
      "cell_type": "markdown",
      "source": [
        "#### Quantas ações começam com a letra A"
      ],
      "metadata": {
        "id": "OQJhIaVnxlzc"
      }
    },
    {
      "cell_type": "code",
      "source": [
        "start_a = df.filter(df.Name.startswith('A')).distinct().count()\n",
        "start_a"
      ],
      "metadata": {
        "id": "yS2yFiTtxtWF"
      },
      "execution_count": null,
      "outputs": []
    },
    {
      "cell_type": "markdown",
      "source": [
        "### Com qual frequencia o preço mais alto do dia da ação tambem é o preço de fechamento?"
      ],
      "metadata": {
        "id": "yH1lxrbpxypY"
      }
    },
    {
      "cell_type": "code",
      "source": [
        "freq_maior_preco_fechamento = df.filter(df.high == df.close).count()\n",
        "print(f\"Quantidade de fechamentos que é igual ao fechamento:{freq_maior_preco_fechamento} \" )\n",
        "\n",
        "percentual_maior_preco_fechamento = (freq_maior_preco_fechamento / df.count()) * 100\n",
        "print(f\"Percentual de fechamentos que é igual ao fechamento:{percentual_maior_preco_fechamento:.2f}%\")"
      ],
      "metadata": {
        "id": "2pdLpxNxx8U7"
      },
      "execution_count": null,
      "outputs": []
    },
    {
      "cell_type": "markdown",
      "source": [
        "### Em qual dia a ação da Apple mais subiu entre a abertura e o fechamento, de forma absoluta e seu grafico."
      ],
      "metadata": {
        "id": "eDY58BBZzWAZ"
      }
    },
    {
      "cell_type": "code",
      "source": [
        "maior_dia_apple = df.filter(df.Name == 'AAPL').withColumn('Diferenca', df.close - df.open).orderBy(col('Diferenca').desc()).first()\n",
        "maior_dia_apple"
      ],
      "metadata": {
        "id": "k--gVQIVzgGE"
      },
      "execution_count": null,
      "outputs": []
    },
    {
      "cell_type": "code",
      "source": [
        "grafico_maior_dia_apple = df.filter(df.Name == 'AAPL').withColumn('Diferenca', df.close - df.open).orderBy(col('Diferenca').desc())\n",
        "\n",
        "grafico_de_linha = grafico_maior_dia_apple.toPandas()\n",
        "grafico_de_dispeção = grafico_de_linha.plot(x='date', y='Diferenca', kind='line', title='Diferença entre o fechamento e abertura', figsize=(10, 6))"
      ],
      "metadata": {
        "id": "iph1zPVSzpvh"
      },
      "execution_count": null,
      "outputs": []
    },
    {
      "cell_type": "markdown",
      "source": [
        "### Qual a media de volume da APPLE?"
      ],
      "metadata": {
        "id": "9vz9HLrd2Hqa"
      }
    },
    {
      "cell_type": "code",
      "source": [
        "media_apple = df.filter(df.Name == 'AAPL').agg({'volume': 'avg'}).collect()[0][0]\n",
        "media_apple"
      ],
      "metadata": {
        "id": "dmtNYAFO2Lrk"
      },
      "execution_count": null,
      "outputs": []
    },
    {
      "cell_type": "markdown",
      "source": [
        "##### Quais ações tem 1,2,3,4,e 5 caracteres em seu nome respectivamente?"
      ],
      "metadata": {
        "id": "vml7A_jI2TeU"
      }
    },
    {
      "cell_type": "code",
      "source": [
        "\n",
        "\n",
        "\n",
        "\n",
        "# Criar uma nova coluna com o comprimento dos nomes das ações\n",
        "df_with_length = df.withColumn('name_length', length(col('Name')))\n",
        "\n",
        "# Agrupar pelo comprimento dos nomes e contar o número de nomes distintos para cada comprimento\n",
        "contar_nomes_distintos = df_with_length.groupBy('name_length').agg(countDistinct('Name').alias('distinct_name_count'))\n",
        "\n",
        "# Mostrar o resultado\n",
        "contar_nomes_distintos.show()\n",
        "\n",
        "grafico_histograma = contar_nomes_distintos.toPandas()\n",
        "grafico_histograma.plot(x='name_length', y='distinct_name_count', kind='bar', title='Contagem de Nomes Distintos por Comprimento', figsize=(10, 6))"
      ],
      "metadata": {
        "id": "wvTffjrW2ubY"
      },
      "execution_count": null,
      "outputs": []
    },
    {
      "cell_type": "markdown",
      "source": [
        "### Qual a ação da bolsa menos negociada da bolsa, em volume de transações?"
      ],
      "metadata": {
        "id": "LJB1R6uB6-dJ"
      }
    },
    {
      "cell_type": "code",
      "source": [
        "acao_menos_negociada = df.groupBy('Name').agg({'volume': 'sum'}).orderBy(col('sum(volume)').asc()).first()\n",
        "acao_menos_negociada"
      ],
      "metadata": {
        "id": "FjP5M0s17Fxv"
      },
      "execution_count": null,
      "outputs": []
    }
  ]
}