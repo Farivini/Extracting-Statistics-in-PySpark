{
  "nbformat": 4,
  "nbformat_minor": 0,
  "metadata": {
    "colab": {
      "provenance": [],
      "authorship_tag": "ABX9TyPcWdYrJ1K9kiWSaL1DcV8v",
      "include_colab_link": true
    },
    "kernelspec": {
      "name": "python3",
      "display_name": "Python 3"
    },
    "language_info": {
      "name": "python"
    }
  },
  "cells": [
    {
      "cell_type": "markdown",
      "metadata": {
        "id": "view-in-github",
        "colab_type": "text"
      },
      "source": [
        "<a href=\"https://colab.research.google.com/github/Farivini/Extracting-Statistics-in-PySpark/blob/main/Analises_descritivas_pyspark.ipynb\" target=\"_parent\"><img src=\"https://colab.research.google.com/assets/colab-badge.svg\" alt=\"Open In Colab\"/></a>"
      ]
    },
    {
      "cell_type": "code",
      "execution_count": 1,
      "metadata": {
        "colab": {
          "base_uri": "https://localhost:8080/"
        },
        "collapsed": true,
        "id": "9CYBWxb0kIBp",
        "outputId": "82785dac-960f-4bcf-efe3-7410f1709e98"
      },
      "outputs": [
        {
          "output_type": "stream",
          "name": "stdout",
          "text": [
            "Collecting pyspark\n",
            "  Downloading pyspark-3.5.1.tar.gz (317.0 MB)\n",
            "\u001b[2K     \u001b[90m━━━━━━━━━━━━━━━━━━━━━━━━━━━━━━━━━━━━━━━━\u001b[0m \u001b[32m317.0/317.0 MB\u001b[0m \u001b[31m3.6 MB/s\u001b[0m eta \u001b[36m0:00:00\u001b[0m\n",
            "\u001b[?25h  Preparing metadata (setup.py) ... \u001b[?25l\u001b[?25hdone\n",
            "Requirement already satisfied: py4j==0.10.9.7 in /usr/local/lib/python3.10/dist-packages (from pyspark) (0.10.9.7)\n",
            "Building wheels for collected packages: pyspark\n",
            "  Building wheel for pyspark (setup.py) ... \u001b[?25l\u001b[?25hdone\n",
            "  Created wheel for pyspark: filename=pyspark-3.5.1-py2.py3-none-any.whl size=317488490 sha256=4195555fddd80141ef96fe20ad2040b3cc20ac8cb185bea0eb7b91cfdd4cfe5e\n",
            "  Stored in directory: /root/.cache/pip/wheels/80/1d/60/2c256ed38dddce2fdd93be545214a63e02fbd8d74fb0b7f3a6\n",
            "Successfully built pyspark\n",
            "Installing collected packages: pyspark\n",
            "Successfully installed pyspark-3.5.1\n"
          ]
        }
      ],
      "source": [
        "!pip install pyspark"
      ]
    },
    {
      "cell_type": "code",
      "source": [
        "!pip install kaggle"
      ],
      "metadata": {
        "colab": {
          "base_uri": "https://localhost:8080/"
        },
        "collapsed": true,
        "id": "NvESsoIgkfyh",
        "outputId": "c6702c3b-6779-4d9c-cf69-f5d849842879"
      },
      "execution_count": 2,
      "outputs": [
        {
          "output_type": "stream",
          "name": "stdout",
          "text": [
            "Requirement already satisfied: kaggle in /usr/local/lib/python3.10/dist-packages (1.6.17)\n",
            "Requirement already satisfied: six>=1.10 in /usr/local/lib/python3.10/dist-packages (from kaggle) (1.16.0)\n",
            "Requirement already satisfied: certifi>=2023.7.22 in /usr/local/lib/python3.10/dist-packages (from kaggle) (2024.7.4)\n",
            "Requirement already satisfied: python-dateutil in /usr/local/lib/python3.10/dist-packages (from kaggle) (2.8.2)\n",
            "Requirement already satisfied: requests in /usr/local/lib/python3.10/dist-packages (from kaggle) (2.31.0)\n",
            "Requirement already satisfied: tqdm in /usr/local/lib/python3.10/dist-packages (from kaggle) (4.66.4)\n",
            "Requirement already satisfied: python-slugify in /usr/local/lib/python3.10/dist-packages (from kaggle) (8.0.4)\n",
            "Requirement already satisfied: urllib3 in /usr/local/lib/python3.10/dist-packages (from kaggle) (2.0.7)\n",
            "Requirement already satisfied: bleach in /usr/local/lib/python3.10/dist-packages (from kaggle) (6.1.0)\n",
            "Requirement already satisfied: webencodings in /usr/local/lib/python3.10/dist-packages (from bleach->kaggle) (0.5.1)\n",
            "Requirement already satisfied: text-unidecode>=1.3 in /usr/local/lib/python3.10/dist-packages (from python-slugify->kaggle) (1.3)\n",
            "Requirement already satisfied: charset-normalizer<4,>=2 in /usr/local/lib/python3.10/dist-packages (from requests->kaggle) (3.3.2)\n",
            "Requirement already satisfied: idna<4,>=2.5 in /usr/local/lib/python3.10/dist-packages (from requests->kaggle) (3.7)\n"
          ]
        }
      ]
    },
    {
      "cell_type": "code",
      "source": [],
      "metadata": {
        "id": "hS0cKDI6lSpG"
      },
      "execution_count": null,
      "outputs": []
    },
    {
      "cell_type": "code",
      "source": [
        "from google.colab import files\n",
        "files.upload()"
      ],
      "metadata": {
        "colab": {
          "base_uri": "https://localhost:8080/",
          "height": 56
        },
        "id": "dMr3CA0dkqHy",
        "outputId": "7606fe82-dd46-4405-bb28-2973102845d4"
      },
      "execution_count": 3,
      "outputs": [
        {
          "output_type": "display_data",
          "data": {
            "text/plain": [
              "<IPython.core.display.HTML object>"
            ],
            "text/html": [
              "\n",
              "     <input type=\"file\" id=\"files-c91d93ec-f312-4d34-a969-0be3dbb247fd\" name=\"files[]\" multiple disabled\n",
              "        style=\"border:none\" />\n",
              "     <output id=\"result-c91d93ec-f312-4d34-a969-0be3dbb247fd\">\n",
              "      Upload widget is only available when the cell has been executed in the\n",
              "      current browser session. Please rerun this cell to enable.\n",
              "      </output>\n",
              "      <script>// Copyright 2017 Google LLC\n",
              "//\n",
              "// Licensed under the Apache License, Version 2.0 (the \"License\");\n",
              "// you may not use this file except in compliance with the License.\n",
              "// You may obtain a copy of the License at\n",
              "//\n",
              "//      http://www.apache.org/licenses/LICENSE-2.0\n",
              "//\n",
              "// Unless required by applicable law or agreed to in writing, software\n",
              "// distributed under the License is distributed on an \"AS IS\" BASIS,\n",
              "// WITHOUT WARRANTIES OR CONDITIONS OF ANY KIND, either express or implied.\n",
              "// See the License for the specific language governing permissions and\n",
              "// limitations under the License.\n",
              "\n",
              "/**\n",
              " * @fileoverview Helpers for google.colab Python module.\n",
              " */\n",
              "(function(scope) {\n",
              "function span(text, styleAttributes = {}) {\n",
              "  const element = document.createElement('span');\n",
              "  element.textContent = text;\n",
              "  for (const key of Object.keys(styleAttributes)) {\n",
              "    element.style[key] = styleAttributes[key];\n",
              "  }\n",
              "  return element;\n",
              "}\n",
              "\n",
              "// Max number of bytes which will be uploaded at a time.\n",
              "const MAX_PAYLOAD_SIZE = 100 * 1024;\n",
              "\n",
              "function _uploadFiles(inputId, outputId) {\n",
              "  const steps = uploadFilesStep(inputId, outputId);\n",
              "  const outputElement = document.getElementById(outputId);\n",
              "  // Cache steps on the outputElement to make it available for the next call\n",
              "  // to uploadFilesContinue from Python.\n",
              "  outputElement.steps = steps;\n",
              "\n",
              "  return _uploadFilesContinue(outputId);\n",
              "}\n",
              "\n",
              "// This is roughly an async generator (not supported in the browser yet),\n",
              "// where there are multiple asynchronous steps and the Python side is going\n",
              "// to poll for completion of each step.\n",
              "// This uses a Promise to block the python side on completion of each step,\n",
              "// then passes the result of the previous step as the input to the next step.\n",
              "function _uploadFilesContinue(outputId) {\n",
              "  const outputElement = document.getElementById(outputId);\n",
              "  const steps = outputElement.steps;\n",
              "\n",
              "  const next = steps.next(outputElement.lastPromiseValue);\n",
              "  return Promise.resolve(next.value.promise).then((value) => {\n",
              "    // Cache the last promise value to make it available to the next\n",
              "    // step of the generator.\n",
              "    outputElement.lastPromiseValue = value;\n",
              "    return next.value.response;\n",
              "  });\n",
              "}\n",
              "\n",
              "/**\n",
              " * Generator function which is called between each async step of the upload\n",
              " * process.\n",
              " * @param {string} inputId Element ID of the input file picker element.\n",
              " * @param {string} outputId Element ID of the output display.\n",
              " * @return {!Iterable<!Object>} Iterable of next steps.\n",
              " */\n",
              "function* uploadFilesStep(inputId, outputId) {\n",
              "  const inputElement = document.getElementById(inputId);\n",
              "  inputElement.disabled = false;\n",
              "\n",
              "  const outputElement = document.getElementById(outputId);\n",
              "  outputElement.innerHTML = '';\n",
              "\n",
              "  const pickedPromise = new Promise((resolve) => {\n",
              "    inputElement.addEventListener('change', (e) => {\n",
              "      resolve(e.target.files);\n",
              "    });\n",
              "  });\n",
              "\n",
              "  const cancel = document.createElement('button');\n",
              "  inputElement.parentElement.appendChild(cancel);\n",
              "  cancel.textContent = 'Cancel upload';\n",
              "  const cancelPromise = new Promise((resolve) => {\n",
              "    cancel.onclick = () => {\n",
              "      resolve(null);\n",
              "    };\n",
              "  });\n",
              "\n",
              "  // Wait for the user to pick the files.\n",
              "  const files = yield {\n",
              "    promise: Promise.race([pickedPromise, cancelPromise]),\n",
              "    response: {\n",
              "      action: 'starting',\n",
              "    }\n",
              "  };\n",
              "\n",
              "  cancel.remove();\n",
              "\n",
              "  // Disable the input element since further picks are not allowed.\n",
              "  inputElement.disabled = true;\n",
              "\n",
              "  if (!files) {\n",
              "    return {\n",
              "      response: {\n",
              "        action: 'complete',\n",
              "      }\n",
              "    };\n",
              "  }\n",
              "\n",
              "  for (const file of files) {\n",
              "    const li = document.createElement('li');\n",
              "    li.append(span(file.name, {fontWeight: 'bold'}));\n",
              "    li.append(span(\n",
              "        `(${file.type || 'n/a'}) - ${file.size} bytes, ` +\n",
              "        `last modified: ${\n",
              "            file.lastModifiedDate ? file.lastModifiedDate.toLocaleDateString() :\n",
              "                                    'n/a'} - `));\n",
              "    const percent = span('0% done');\n",
              "    li.appendChild(percent);\n",
              "\n",
              "    outputElement.appendChild(li);\n",
              "\n",
              "    const fileDataPromise = new Promise((resolve) => {\n",
              "      const reader = new FileReader();\n",
              "      reader.onload = (e) => {\n",
              "        resolve(e.target.result);\n",
              "      };\n",
              "      reader.readAsArrayBuffer(file);\n",
              "    });\n",
              "    // Wait for the data to be ready.\n",
              "    let fileData = yield {\n",
              "      promise: fileDataPromise,\n",
              "      response: {\n",
              "        action: 'continue',\n",
              "      }\n",
              "    };\n",
              "\n",
              "    // Use a chunked sending to avoid message size limits. See b/62115660.\n",
              "    let position = 0;\n",
              "    do {\n",
              "      const length = Math.min(fileData.byteLength - position, MAX_PAYLOAD_SIZE);\n",
              "      const chunk = new Uint8Array(fileData, position, length);\n",
              "      position += length;\n",
              "\n",
              "      const base64 = btoa(String.fromCharCode.apply(null, chunk));\n",
              "      yield {\n",
              "        response: {\n",
              "          action: 'append',\n",
              "          file: file.name,\n",
              "          data: base64,\n",
              "        },\n",
              "      };\n",
              "\n",
              "      let percentDone = fileData.byteLength === 0 ?\n",
              "          100 :\n",
              "          Math.round((position / fileData.byteLength) * 100);\n",
              "      percent.textContent = `${percentDone}% done`;\n",
              "\n",
              "    } while (position < fileData.byteLength);\n",
              "  }\n",
              "\n",
              "  // All done.\n",
              "  yield {\n",
              "    response: {\n",
              "      action: 'complete',\n",
              "    }\n",
              "  };\n",
              "}\n",
              "\n",
              "scope.google = scope.google || {};\n",
              "scope.google.colab = scope.google.colab || {};\n",
              "scope.google.colab._files = {\n",
              "  _uploadFiles,\n",
              "  _uploadFilesContinue,\n",
              "};\n",
              "})(self);\n",
              "</script> "
            ]
          },
          "metadata": {}
        },
        {
          "output_type": "execute_result",
          "data": {
            "text/plain": [
              "{}"
            ]
          },
          "metadata": {},
          "execution_count": 3
        }
      ]
    },
    {
      "cell_type": "code",
      "source": [
        "!mkdir -p ~/.kaggle\n",
        "!cp kaggle.json ~/.kaggle/\n",
        "!chmod 600 ~/.kaggle/kaggle.json\n",
        "\n",
        "# Baixar o dataset do Kaggle\n",
        "!kaggle datasets download -d camnugent/sandp500\n",
        "!unzip sandp500.zip"
      ],
      "metadata": {
        "colab": {
          "base_uri": "https://localhost:8080/"
        },
        "collapsed": true,
        "id": "JztdXCBblam0",
        "outputId": "9251b7aa-5cd9-4ee9-85f1-35e936222d98"
      },
      "execution_count": 4,
      "outputs": [
        {
          "output_type": "stream",
          "name": "stdout",
          "text": [
            "cp: cannot stat 'kaggle.json': No such file or directory\n",
            "chmod: cannot access '/root/.kaggle/kaggle.json': No such file or directory\n",
            "Dataset URL: https://www.kaggle.com/datasets/camnugent/sandp500\n",
            "License(s): CC0-1.0\n",
            "Downloading sandp500.zip to /content\n",
            " 26% 5.00M/19.3M [00:00<00:00, 44.6MB/s]\n",
            "100% 19.3M/19.3M [00:00<00:00, 108MB/s] \n",
            "Archive:  sandp500.zip\n",
            "  inflating: all_stocks_5yr.csv      \n",
            "  inflating: getSandP.py             \n",
            "  inflating: individual_stocks_5yr/__MACOSX/individual_stocks_5yr/._.DS_Store  \n",
            "  inflating: individual_stocks_5yr/__MACOSX/individual_stocks_5yr/._AAPL_data.csv  \n",
            "  inflating: individual_stocks_5yr/__MACOSX/individual_stocks_5yr/._ABC_data.csv  \n",
            "  inflating: individual_stocks_5yr/__MACOSX/individual_stocks_5yr/._A_data.csv  \n",
            "  inflating: individual_stocks_5yr/__MACOSX/individual_stocks_5yr/._MAS_data.csv  \n",
            "  inflating: individual_stocks_5yr/individual_stocks_5yr/.DS_Store  \n",
            "  inflating: individual_stocks_5yr/individual_stocks_5yr/AAL_data.csv  \n",
            "  inflating: individual_stocks_5yr/individual_stocks_5yr/AAPL_data.csv  \n",
            "  inflating: individual_stocks_5yr/individual_stocks_5yr/AAP_data.csv  \n",
            "  inflating: individual_stocks_5yr/individual_stocks_5yr/ABBV_data.csv  \n",
            "  inflating: individual_stocks_5yr/individual_stocks_5yr/ABC_data.csv  \n",
            "  inflating: individual_stocks_5yr/individual_stocks_5yr/ABT_data.csv  \n",
            "  inflating: individual_stocks_5yr/individual_stocks_5yr/ACN_data.csv  \n",
            "  inflating: individual_stocks_5yr/individual_stocks_5yr/ADBE_data.csv  \n",
            "  inflating: individual_stocks_5yr/individual_stocks_5yr/ADI_data.csv  \n",
            "  inflating: individual_stocks_5yr/individual_stocks_5yr/ADM_data.csv  \n",
            "  inflating: individual_stocks_5yr/individual_stocks_5yr/ADP_data.csv  \n",
            "  inflating: individual_stocks_5yr/individual_stocks_5yr/ADSK_data.csv  \n",
            "  inflating: individual_stocks_5yr/individual_stocks_5yr/ADS_data.csv  \n",
            "  inflating: individual_stocks_5yr/individual_stocks_5yr/AEE_data.csv  \n",
            "  inflating: individual_stocks_5yr/individual_stocks_5yr/AEP_data.csv  \n",
            "  inflating: individual_stocks_5yr/individual_stocks_5yr/AES_data.csv  \n",
            "  inflating: individual_stocks_5yr/individual_stocks_5yr/AET_data.csv  \n",
            "  inflating: individual_stocks_5yr/individual_stocks_5yr/AFL_data.csv  \n",
            "  inflating: individual_stocks_5yr/individual_stocks_5yr/AGN_data.csv  \n",
            "  inflating: individual_stocks_5yr/individual_stocks_5yr/AIG_data.csv  \n",
            "  inflating: individual_stocks_5yr/individual_stocks_5yr/AIV_data.csv  \n",
            "  inflating: individual_stocks_5yr/individual_stocks_5yr/AIZ_data.csv  \n",
            "  inflating: individual_stocks_5yr/individual_stocks_5yr/AJG_data.csv  \n",
            "  inflating: individual_stocks_5yr/individual_stocks_5yr/AKAM_data.csv  \n",
            "  inflating: individual_stocks_5yr/individual_stocks_5yr/ALB_data.csv  \n",
            "  inflating: individual_stocks_5yr/individual_stocks_5yr/ALGN_data.csv  \n",
            "  inflating: individual_stocks_5yr/individual_stocks_5yr/ALK_data.csv  \n",
            "  inflating: individual_stocks_5yr/individual_stocks_5yr/ALLE_data.csv  \n",
            "  inflating: individual_stocks_5yr/individual_stocks_5yr/ALL_data.csv  \n",
            "  inflating: individual_stocks_5yr/individual_stocks_5yr/ALXN_data.csv  \n",
            "  inflating: individual_stocks_5yr/individual_stocks_5yr/AMAT_data.csv  \n",
            "  inflating: individual_stocks_5yr/individual_stocks_5yr/AMD_data.csv  \n",
            "  inflating: individual_stocks_5yr/individual_stocks_5yr/AME_data.csv  \n",
            "  inflating: individual_stocks_5yr/individual_stocks_5yr/AMGN_data.csv  \n",
            "  inflating: individual_stocks_5yr/individual_stocks_5yr/AMG_data.csv  \n",
            "  inflating: individual_stocks_5yr/individual_stocks_5yr/AMP_data.csv  \n",
            "  inflating: individual_stocks_5yr/individual_stocks_5yr/AMT_data.csv  \n",
            "  inflating: individual_stocks_5yr/individual_stocks_5yr/AMZN_data.csv  \n",
            "  inflating: individual_stocks_5yr/individual_stocks_5yr/ANDV_data.csv  \n",
            "  inflating: individual_stocks_5yr/individual_stocks_5yr/ANSS_data.csv  \n",
            "  inflating: individual_stocks_5yr/individual_stocks_5yr/ANTM_data.csv  \n",
            "  inflating: individual_stocks_5yr/individual_stocks_5yr/AON_data.csv  \n",
            "  inflating: individual_stocks_5yr/individual_stocks_5yr/AOS_data.csv  \n",
            "  inflating: individual_stocks_5yr/individual_stocks_5yr/APA_data.csv  \n",
            "  inflating: individual_stocks_5yr/individual_stocks_5yr/APC_data.csv  \n",
            "  inflating: individual_stocks_5yr/individual_stocks_5yr/APD_data.csv  \n",
            "  inflating: individual_stocks_5yr/individual_stocks_5yr/APH_data.csv  \n",
            "  inflating: individual_stocks_5yr/individual_stocks_5yr/APTV_data.csv  \n",
            "  inflating: individual_stocks_5yr/individual_stocks_5yr/ARE_data.csv  \n",
            "  inflating: individual_stocks_5yr/individual_stocks_5yr/ARNC_data.csv  \n",
            "  inflating: individual_stocks_5yr/individual_stocks_5yr/ATVI_data.csv  \n",
            "  inflating: individual_stocks_5yr/individual_stocks_5yr/AVB_data.csv  \n",
            "  inflating: individual_stocks_5yr/individual_stocks_5yr/AVGO_data.csv  \n",
            "  inflating: individual_stocks_5yr/individual_stocks_5yr/AVY_data.csv  \n",
            "  inflating: individual_stocks_5yr/individual_stocks_5yr/AWK_data.csv  \n",
            "  inflating: individual_stocks_5yr/individual_stocks_5yr/AXP_data.csv  \n",
            "  inflating: individual_stocks_5yr/individual_stocks_5yr/AYI_data.csv  \n",
            "  inflating: individual_stocks_5yr/individual_stocks_5yr/AZO_data.csv  \n",
            "  inflating: individual_stocks_5yr/individual_stocks_5yr/A_data.csv  \n",
            "  inflating: individual_stocks_5yr/individual_stocks_5yr/BAC_data.csv  \n",
            "  inflating: individual_stocks_5yr/individual_stocks_5yr/BAX_data.csv  \n",
            "  inflating: individual_stocks_5yr/individual_stocks_5yr/BA_data.csv  \n",
            "  inflating: individual_stocks_5yr/individual_stocks_5yr/BBT_data.csv  \n",
            "  inflating: individual_stocks_5yr/individual_stocks_5yr/BBY_data.csv  \n",
            "  inflating: individual_stocks_5yr/individual_stocks_5yr/BDX_data.csv  \n",
            "  inflating: individual_stocks_5yr/individual_stocks_5yr/BEN_data.csv  \n",
            "  inflating: individual_stocks_5yr/individual_stocks_5yr/BF.B_data.csv  \n",
            "  inflating: individual_stocks_5yr/individual_stocks_5yr/BHF_data.csv  \n",
            "  inflating: individual_stocks_5yr/individual_stocks_5yr/BHGE_data.csv  \n",
            "  inflating: individual_stocks_5yr/individual_stocks_5yr/BIIB_data.csv  \n",
            "  inflating: individual_stocks_5yr/individual_stocks_5yr/BK_data.csv  \n",
            "  inflating: individual_stocks_5yr/individual_stocks_5yr/BLK_data.csv  \n",
            "  inflating: individual_stocks_5yr/individual_stocks_5yr/BLL_data.csv  \n",
            "  inflating: individual_stocks_5yr/individual_stocks_5yr/BMY_data.csv  \n",
            "  inflating: individual_stocks_5yr/individual_stocks_5yr/BRK.B_data.csv  \n",
            "  inflating: individual_stocks_5yr/individual_stocks_5yr/BSX_data.csv  \n",
            "  inflating: individual_stocks_5yr/individual_stocks_5yr/BWA_data.csv  \n",
            "  inflating: individual_stocks_5yr/individual_stocks_5yr/BXP_data.csv  \n",
            "  inflating: individual_stocks_5yr/individual_stocks_5yr/CAG_data.csv  \n",
            "  inflating: individual_stocks_5yr/individual_stocks_5yr/CAH_data.csv  \n",
            "  inflating: individual_stocks_5yr/individual_stocks_5yr/CAT_data.csv  \n",
            "  inflating: individual_stocks_5yr/individual_stocks_5yr/CA_data.csv  \n",
            "  inflating: individual_stocks_5yr/individual_stocks_5yr/CBG_data.csv  \n",
            "  inflating: individual_stocks_5yr/individual_stocks_5yr/CBOE_data.csv  \n",
            "  inflating: individual_stocks_5yr/individual_stocks_5yr/CBS_data.csv  \n",
            "  inflating: individual_stocks_5yr/individual_stocks_5yr/CB_data.csv  \n",
            "  inflating: individual_stocks_5yr/individual_stocks_5yr/CCI_data.csv  \n",
            "  inflating: individual_stocks_5yr/individual_stocks_5yr/CCL_data.csv  \n",
            "  inflating: individual_stocks_5yr/individual_stocks_5yr/CDNS_data.csv  \n",
            "  inflating: individual_stocks_5yr/individual_stocks_5yr/CELG_data.csv  \n",
            "  inflating: individual_stocks_5yr/individual_stocks_5yr/CERN_data.csv  \n",
            "  inflating: individual_stocks_5yr/individual_stocks_5yr/CFG_data.csv  \n",
            "  inflating: individual_stocks_5yr/individual_stocks_5yr/CF_data.csv  \n",
            "  inflating: individual_stocks_5yr/individual_stocks_5yr/CHD_data.csv  \n",
            "  inflating: individual_stocks_5yr/individual_stocks_5yr/CHK_data.csv  \n",
            "  inflating: individual_stocks_5yr/individual_stocks_5yr/CHRW_data.csv  \n",
            "  inflating: individual_stocks_5yr/individual_stocks_5yr/CHTR_data.csv  \n",
            "  inflating: individual_stocks_5yr/individual_stocks_5yr/CINF_data.csv  \n",
            "  inflating: individual_stocks_5yr/individual_stocks_5yr/CI_data.csv  \n",
            "  inflating: individual_stocks_5yr/individual_stocks_5yr/CLX_data.csv  \n",
            "  inflating: individual_stocks_5yr/individual_stocks_5yr/CL_data.csv  \n",
            "  inflating: individual_stocks_5yr/individual_stocks_5yr/CMA_data.csv  \n",
            "  inflating: individual_stocks_5yr/individual_stocks_5yr/CMCSA_data.csv  \n",
            "  inflating: individual_stocks_5yr/individual_stocks_5yr/CME_data.csv  \n",
            "  inflating: individual_stocks_5yr/individual_stocks_5yr/CMG_data.csv  \n",
            "  inflating: individual_stocks_5yr/individual_stocks_5yr/CMI_data.csv  \n",
            "  inflating: individual_stocks_5yr/individual_stocks_5yr/CMS_data.csv  \n",
            "  inflating: individual_stocks_5yr/individual_stocks_5yr/CNC_data.csv  \n",
            "  inflating: individual_stocks_5yr/individual_stocks_5yr/CNP_data.csv  \n",
            "  inflating: individual_stocks_5yr/individual_stocks_5yr/COF_data.csv  \n",
            "  inflating: individual_stocks_5yr/individual_stocks_5yr/COG_data.csv  \n",
            "  inflating: individual_stocks_5yr/individual_stocks_5yr/COL_data.csv  \n",
            "  inflating: individual_stocks_5yr/individual_stocks_5yr/COO_data.csv  \n",
            "  inflating: individual_stocks_5yr/individual_stocks_5yr/COP_data.csv  \n",
            "  inflating: individual_stocks_5yr/individual_stocks_5yr/COST_data.csv  \n",
            "  inflating: individual_stocks_5yr/individual_stocks_5yr/COTY_data.csv  \n",
            "  inflating: individual_stocks_5yr/individual_stocks_5yr/CPB_data.csv  \n",
            "  inflating: individual_stocks_5yr/individual_stocks_5yr/CRM_data.csv  \n",
            "  inflating: individual_stocks_5yr/individual_stocks_5yr/CSCO_data.csv  \n",
            "  inflating: individual_stocks_5yr/individual_stocks_5yr/CSRA_data.csv  \n",
            "  inflating: individual_stocks_5yr/individual_stocks_5yr/CSX_data.csv  \n",
            "  inflating: individual_stocks_5yr/individual_stocks_5yr/CTAS_data.csv  \n",
            "  inflating: individual_stocks_5yr/individual_stocks_5yr/CTL_data.csv  \n",
            "  inflating: individual_stocks_5yr/individual_stocks_5yr/CTSH_data.csv  \n",
            "  inflating: individual_stocks_5yr/individual_stocks_5yr/CTXS_data.csv  \n",
            "  inflating: individual_stocks_5yr/individual_stocks_5yr/CVS_data.csv  \n",
            "  inflating: individual_stocks_5yr/individual_stocks_5yr/CVX_data.csv  \n",
            "  inflating: individual_stocks_5yr/individual_stocks_5yr/CXO_data.csv  \n",
            "  inflating: individual_stocks_5yr/individual_stocks_5yr/C_data.csv  \n",
            "  inflating: individual_stocks_5yr/individual_stocks_5yr/DAL_data.csv  \n",
            "  inflating: individual_stocks_5yr/individual_stocks_5yr/DE_data.csv  \n",
            "  inflating: individual_stocks_5yr/individual_stocks_5yr/DFS_data.csv  \n",
            "  inflating: individual_stocks_5yr/individual_stocks_5yr/DGX_data.csv  \n",
            "  inflating: individual_stocks_5yr/individual_stocks_5yr/DG_data.csv  \n",
            "  inflating: individual_stocks_5yr/individual_stocks_5yr/DHI_data.csv  \n",
            "  inflating: individual_stocks_5yr/individual_stocks_5yr/DHR_data.csv  \n",
            "  inflating: individual_stocks_5yr/individual_stocks_5yr/DISCA_data.csv  \n",
            "  inflating: individual_stocks_5yr/individual_stocks_5yr/DISCK_data.csv  \n",
            "  inflating: individual_stocks_5yr/individual_stocks_5yr/DISH_data.csv  \n",
            "  inflating: individual_stocks_5yr/individual_stocks_5yr/DIS_data.csv  \n",
            "  inflating: individual_stocks_5yr/individual_stocks_5yr/DLR_data.csv  \n",
            "  inflating: individual_stocks_5yr/individual_stocks_5yr/DLTR_data.csv  \n",
            "  inflating: individual_stocks_5yr/individual_stocks_5yr/DOV_data.csv  \n",
            "  inflating: individual_stocks_5yr/individual_stocks_5yr/DPS_data.csv  \n",
            "  inflating: individual_stocks_5yr/individual_stocks_5yr/DRE_data.csv  \n",
            "  inflating: individual_stocks_5yr/individual_stocks_5yr/DRI_data.csv  \n",
            "  inflating: individual_stocks_5yr/individual_stocks_5yr/DTE_data.csv  \n",
            "  inflating: individual_stocks_5yr/individual_stocks_5yr/DUK_data.csv  \n",
            "  inflating: individual_stocks_5yr/individual_stocks_5yr/DVA_data.csv  \n",
            "  inflating: individual_stocks_5yr/individual_stocks_5yr/DVN_data.csv  \n",
            "  inflating: individual_stocks_5yr/individual_stocks_5yr/DWDP_data.csv  \n",
            "  inflating: individual_stocks_5yr/individual_stocks_5yr/DXC_data.csv  \n",
            "  inflating: individual_stocks_5yr/individual_stocks_5yr/D_data.csv  \n",
            "  inflating: individual_stocks_5yr/individual_stocks_5yr/EA_data.csv  \n",
            "  inflating: individual_stocks_5yr/individual_stocks_5yr/EBAY_data.csv  \n",
            "  inflating: individual_stocks_5yr/individual_stocks_5yr/ECL_data.csv  \n",
            "  inflating: individual_stocks_5yr/individual_stocks_5yr/ED_data.csv  \n",
            "  inflating: individual_stocks_5yr/individual_stocks_5yr/EFX_data.csv  \n",
            "  inflating: individual_stocks_5yr/individual_stocks_5yr/EIX_data.csv  \n",
            "  inflating: individual_stocks_5yr/individual_stocks_5yr/EL_data.csv  \n",
            "  inflating: individual_stocks_5yr/individual_stocks_5yr/EMN_data.csv  \n",
            "  inflating: individual_stocks_5yr/individual_stocks_5yr/EMR_data.csv  \n",
            "  inflating: individual_stocks_5yr/individual_stocks_5yr/EOG_data.csv  \n",
            "  inflating: individual_stocks_5yr/individual_stocks_5yr/EQIX_data.csv  \n",
            "  inflating: individual_stocks_5yr/individual_stocks_5yr/EQR_data.csv  \n",
            "  inflating: individual_stocks_5yr/individual_stocks_5yr/EQT_data.csv  \n",
            "  inflating: individual_stocks_5yr/individual_stocks_5yr/ESRX_data.csv  \n",
            "  inflating: individual_stocks_5yr/individual_stocks_5yr/ESS_data.csv  \n",
            "  inflating: individual_stocks_5yr/individual_stocks_5yr/ES_data.csv  \n",
            "  inflating: individual_stocks_5yr/individual_stocks_5yr/ETFC_data.csv  \n",
            "  inflating: individual_stocks_5yr/individual_stocks_5yr/ETN_data.csv  \n",
            "  inflating: individual_stocks_5yr/individual_stocks_5yr/ETR_data.csv  \n",
            "  inflating: individual_stocks_5yr/individual_stocks_5yr/EVHC_data.csv  \n",
            "  inflating: individual_stocks_5yr/individual_stocks_5yr/EW_data.csv  \n",
            "  inflating: individual_stocks_5yr/individual_stocks_5yr/EXC_data.csv  \n",
            "  inflating: individual_stocks_5yr/individual_stocks_5yr/EXPD_data.csv  \n",
            "  inflating: individual_stocks_5yr/individual_stocks_5yr/EXPE_data.csv  \n",
            "  inflating: individual_stocks_5yr/individual_stocks_5yr/EXR_data.csv  \n",
            "  inflating: individual_stocks_5yr/individual_stocks_5yr/FAST_data.csv  \n",
            "  inflating: individual_stocks_5yr/individual_stocks_5yr/FBHS_data.csv  \n",
            "  inflating: individual_stocks_5yr/individual_stocks_5yr/FB_data.csv  \n",
            "  inflating: individual_stocks_5yr/individual_stocks_5yr/FCX_data.csv  \n",
            "  inflating: individual_stocks_5yr/individual_stocks_5yr/FDX_data.csv  \n",
            "  inflating: individual_stocks_5yr/individual_stocks_5yr/FE_data.csv  \n",
            "  inflating: individual_stocks_5yr/individual_stocks_5yr/FFIV_data.csv  \n",
            "  inflating: individual_stocks_5yr/individual_stocks_5yr/FISV_data.csv  \n",
            "  inflating: individual_stocks_5yr/individual_stocks_5yr/FIS_data.csv  \n",
            "  inflating: individual_stocks_5yr/individual_stocks_5yr/FITB_data.csv  \n",
            "  inflating: individual_stocks_5yr/individual_stocks_5yr/FLIR_data.csv  \n",
            "  inflating: individual_stocks_5yr/individual_stocks_5yr/FLR_data.csv  \n",
            "  inflating: individual_stocks_5yr/individual_stocks_5yr/FLS_data.csv  \n",
            "  inflating: individual_stocks_5yr/individual_stocks_5yr/FL_data.csv  \n",
            "  inflating: individual_stocks_5yr/individual_stocks_5yr/FMC_data.csv  \n",
            "  inflating: individual_stocks_5yr/individual_stocks_5yr/FOXA_data.csv  \n",
            "  inflating: individual_stocks_5yr/individual_stocks_5yr/FOX_data.csv  \n",
            "  inflating: individual_stocks_5yr/individual_stocks_5yr/FRT_data.csv  \n",
            "  inflating: individual_stocks_5yr/individual_stocks_5yr/FTI_data.csv  \n",
            "  inflating: individual_stocks_5yr/individual_stocks_5yr/FTV_data.csv  \n",
            "  inflating: individual_stocks_5yr/individual_stocks_5yr/F_data.csv  \n",
            "  inflating: individual_stocks_5yr/individual_stocks_5yr/GD_data.csv  \n",
            "  inflating: individual_stocks_5yr/individual_stocks_5yr/GE_data.csv  \n",
            "  inflating: individual_stocks_5yr/individual_stocks_5yr/GGP_data.csv  \n",
            "  inflating: individual_stocks_5yr/individual_stocks_5yr/GILD_data.csv  \n",
            "  inflating: individual_stocks_5yr/individual_stocks_5yr/GIS_data.csv  \n",
            "  inflating: individual_stocks_5yr/individual_stocks_5yr/GLW_data.csv  \n",
            "  inflating: individual_stocks_5yr/individual_stocks_5yr/GM_data.csv  \n",
            "  inflating: individual_stocks_5yr/individual_stocks_5yr/GOOGL_data.csv  \n",
            "  inflating: individual_stocks_5yr/individual_stocks_5yr/GOOG_data.csv  \n",
            "  inflating: individual_stocks_5yr/individual_stocks_5yr/GPC_data.csv  \n",
            "  inflating: individual_stocks_5yr/individual_stocks_5yr/GPN_data.csv  \n",
            "  inflating: individual_stocks_5yr/individual_stocks_5yr/GPS_data.csv  \n",
            "  inflating: individual_stocks_5yr/individual_stocks_5yr/GRMN_data.csv  \n",
            "  inflating: individual_stocks_5yr/individual_stocks_5yr/GS_data.csv  \n",
            "  inflating: individual_stocks_5yr/individual_stocks_5yr/GT_data.csv  \n",
            "  inflating: individual_stocks_5yr/individual_stocks_5yr/GWW_data.csv  \n",
            "  inflating: individual_stocks_5yr/individual_stocks_5yr/HAL_data.csv  \n",
            "  inflating: individual_stocks_5yr/individual_stocks_5yr/HAS_data.csv  \n",
            "  inflating: individual_stocks_5yr/individual_stocks_5yr/HBAN_data.csv  \n",
            "  inflating: individual_stocks_5yr/individual_stocks_5yr/HBI_data.csv  \n",
            "  inflating: individual_stocks_5yr/individual_stocks_5yr/HCA_data.csv  \n",
            "  inflating: individual_stocks_5yr/individual_stocks_5yr/HCN_data.csv  \n",
            "  inflating: individual_stocks_5yr/individual_stocks_5yr/HCP_data.csv  \n",
            "  inflating: individual_stocks_5yr/individual_stocks_5yr/HD_data.csv  \n",
            "  inflating: individual_stocks_5yr/individual_stocks_5yr/HES_data.csv  \n",
            "  inflating: individual_stocks_5yr/individual_stocks_5yr/HIG_data.csv  \n",
            "  inflating: individual_stocks_5yr/individual_stocks_5yr/HII_data.csv  \n",
            "  inflating: individual_stocks_5yr/individual_stocks_5yr/HLT_data.csv  \n",
            "  inflating: individual_stocks_5yr/individual_stocks_5yr/HOG_data.csv  \n",
            "  inflating: individual_stocks_5yr/individual_stocks_5yr/HOLX_data.csv  \n",
            "  inflating: individual_stocks_5yr/individual_stocks_5yr/HON_data.csv  \n",
            "  inflating: individual_stocks_5yr/individual_stocks_5yr/HPE_data.csv  \n",
            "  inflating: individual_stocks_5yr/individual_stocks_5yr/HPQ_data.csv  \n",
            "  inflating: individual_stocks_5yr/individual_stocks_5yr/HP_data.csv  \n",
            "  inflating: individual_stocks_5yr/individual_stocks_5yr/HRB_data.csv  \n",
            "  inflating: individual_stocks_5yr/individual_stocks_5yr/HRL_data.csv  \n",
            "  inflating: individual_stocks_5yr/individual_stocks_5yr/HRS_data.csv  \n",
            "  inflating: individual_stocks_5yr/individual_stocks_5yr/HSIC_data.csv  \n",
            "  inflating: individual_stocks_5yr/individual_stocks_5yr/HST_data.csv  \n",
            "  inflating: individual_stocks_5yr/individual_stocks_5yr/HSY_data.csv  \n",
            "  inflating: individual_stocks_5yr/individual_stocks_5yr/HUM_data.csv  \n",
            "  inflating: individual_stocks_5yr/individual_stocks_5yr/IBM_data.csv  \n",
            "  inflating: individual_stocks_5yr/individual_stocks_5yr/ICE_data.csv  \n",
            "  inflating: individual_stocks_5yr/individual_stocks_5yr/IDXX_data.csv  \n",
            "  inflating: individual_stocks_5yr/individual_stocks_5yr/IFF_data.csv  \n",
            "  inflating: individual_stocks_5yr/individual_stocks_5yr/ILMN_data.csv  \n",
            "  inflating: individual_stocks_5yr/individual_stocks_5yr/INCY_data.csv  \n",
            "  inflating: individual_stocks_5yr/individual_stocks_5yr/INFO_data.csv  \n",
            "  inflating: individual_stocks_5yr/individual_stocks_5yr/INTC_data.csv  \n",
            "  inflating: individual_stocks_5yr/individual_stocks_5yr/INTU_data.csv  \n",
            "  inflating: individual_stocks_5yr/individual_stocks_5yr/IPG_data.csv  \n",
            "  inflating: individual_stocks_5yr/individual_stocks_5yr/IP_data.csv  \n",
            "  inflating: individual_stocks_5yr/individual_stocks_5yr/IQV_data.csv  \n",
            "  inflating: individual_stocks_5yr/individual_stocks_5yr/IRM_data.csv  \n",
            "  inflating: individual_stocks_5yr/individual_stocks_5yr/IR_data.csv  \n",
            "  inflating: individual_stocks_5yr/individual_stocks_5yr/ISRG_data.csv  \n",
            "  inflating: individual_stocks_5yr/individual_stocks_5yr/ITW_data.csv  \n",
            "  inflating: individual_stocks_5yr/individual_stocks_5yr/IT_data.csv  \n",
            "  inflating: individual_stocks_5yr/individual_stocks_5yr/IVZ_data.csv  \n",
            "  inflating: individual_stocks_5yr/individual_stocks_5yr/JBHT_data.csv  \n",
            "  inflating: individual_stocks_5yr/individual_stocks_5yr/JCI_data.csv  \n",
            "  inflating: individual_stocks_5yr/individual_stocks_5yr/JEC_data.csv  \n",
            "  inflating: individual_stocks_5yr/individual_stocks_5yr/JNJ_data.csv  \n",
            "  inflating: individual_stocks_5yr/individual_stocks_5yr/JNPR_data.csv  \n",
            "  inflating: individual_stocks_5yr/individual_stocks_5yr/JPM_data.csv  \n",
            "  inflating: individual_stocks_5yr/individual_stocks_5yr/JWN_data.csv  \n",
            "  inflating: individual_stocks_5yr/individual_stocks_5yr/KEY_data.csv  \n",
            "  inflating: individual_stocks_5yr/individual_stocks_5yr/KHC_data.csv  \n",
            "  inflating: individual_stocks_5yr/individual_stocks_5yr/KIM_data.csv  \n",
            "  inflating: individual_stocks_5yr/individual_stocks_5yr/KLAC_data.csv  \n",
            "  inflating: individual_stocks_5yr/individual_stocks_5yr/KMB_data.csv  \n",
            "  inflating: individual_stocks_5yr/individual_stocks_5yr/KMI_data.csv  \n",
            "  inflating: individual_stocks_5yr/individual_stocks_5yr/KMX_data.csv  \n",
            "  inflating: individual_stocks_5yr/individual_stocks_5yr/KORS_data.csv  \n",
            "  inflating: individual_stocks_5yr/individual_stocks_5yr/KO_data.csv  \n",
            "  inflating: individual_stocks_5yr/individual_stocks_5yr/KR_data.csv  \n",
            "  inflating: individual_stocks_5yr/individual_stocks_5yr/KSS_data.csv  \n",
            "  inflating: individual_stocks_5yr/individual_stocks_5yr/KSU_data.csv  \n",
            "  inflating: individual_stocks_5yr/individual_stocks_5yr/K_data.csv  \n",
            "  inflating: individual_stocks_5yr/individual_stocks_5yr/LB_data.csv  \n",
            "  inflating: individual_stocks_5yr/individual_stocks_5yr/LEG_data.csv  \n",
            "  inflating: individual_stocks_5yr/individual_stocks_5yr/LEN_data.csv  \n",
            "  inflating: individual_stocks_5yr/individual_stocks_5yr/LH_data.csv  \n",
            "  inflating: individual_stocks_5yr/individual_stocks_5yr/LKQ_data.csv  \n",
            "  inflating: individual_stocks_5yr/individual_stocks_5yr/LLL_data.csv  \n",
            "  inflating: individual_stocks_5yr/individual_stocks_5yr/LLY_data.csv  \n",
            "  inflating: individual_stocks_5yr/individual_stocks_5yr/LMT_data.csv  \n",
            "  inflating: individual_stocks_5yr/individual_stocks_5yr/LNC_data.csv  \n",
            "  inflating: individual_stocks_5yr/individual_stocks_5yr/LNT_data.csv  \n",
            "  inflating: individual_stocks_5yr/individual_stocks_5yr/LOW_data.csv  \n",
            "  inflating: individual_stocks_5yr/individual_stocks_5yr/LRCX_data.csv  \n",
            "  inflating: individual_stocks_5yr/individual_stocks_5yr/LUK_data.csv  \n",
            "  inflating: individual_stocks_5yr/individual_stocks_5yr/LUV_data.csv  \n",
            "  inflating: individual_stocks_5yr/individual_stocks_5yr/LYB_data.csv  \n",
            "  inflating: individual_stocks_5yr/individual_stocks_5yr/L_data.csv  \n",
            "  inflating: individual_stocks_5yr/individual_stocks_5yr/MAA_data.csv  \n",
            "  inflating: individual_stocks_5yr/individual_stocks_5yr/MAC_data.csv  \n",
            "  inflating: individual_stocks_5yr/individual_stocks_5yr/MAR_data.csv  \n",
            "  inflating: individual_stocks_5yr/individual_stocks_5yr/MAS_data.csv  \n",
            "  inflating: individual_stocks_5yr/individual_stocks_5yr/MAT_data.csv  \n",
            "  inflating: individual_stocks_5yr/individual_stocks_5yr/MA_data.csv  \n",
            "  inflating: individual_stocks_5yr/individual_stocks_5yr/MCD_data.csv  \n",
            "  inflating: individual_stocks_5yr/individual_stocks_5yr/MCHP_data.csv  \n",
            "  inflating: individual_stocks_5yr/individual_stocks_5yr/MCK_data.csv  \n",
            "  inflating: individual_stocks_5yr/individual_stocks_5yr/MCO_data.csv  \n",
            "  inflating: individual_stocks_5yr/individual_stocks_5yr/MDLZ_data.csv  \n",
            "  inflating: individual_stocks_5yr/individual_stocks_5yr/MDT_data.csv  \n",
            "  inflating: individual_stocks_5yr/individual_stocks_5yr/MET_data.csv  \n",
            "  inflating: individual_stocks_5yr/individual_stocks_5yr/MGM_data.csv  \n",
            "  inflating: individual_stocks_5yr/individual_stocks_5yr/MHK_data.csv  \n",
            "  inflating: individual_stocks_5yr/individual_stocks_5yr/MKC_data.csv  \n",
            "  inflating: individual_stocks_5yr/individual_stocks_5yr/MLM_data.csv  \n",
            "  inflating: individual_stocks_5yr/individual_stocks_5yr/MMC_data.csv  \n",
            "  inflating: individual_stocks_5yr/individual_stocks_5yr/MMM_data.csv  \n",
            "  inflating: individual_stocks_5yr/individual_stocks_5yr/MNST_data.csv  \n",
            "  inflating: individual_stocks_5yr/individual_stocks_5yr/MON_data.csv  \n",
            "  inflating: individual_stocks_5yr/individual_stocks_5yr/MOS_data.csv  \n",
            "  inflating: individual_stocks_5yr/individual_stocks_5yr/MO_data.csv  \n",
            "  inflating: individual_stocks_5yr/individual_stocks_5yr/MPC_data.csv  \n",
            "  inflating: individual_stocks_5yr/individual_stocks_5yr/MRK_data.csv  \n",
            "  inflating: individual_stocks_5yr/individual_stocks_5yr/MRO_data.csv  \n",
            "  inflating: individual_stocks_5yr/individual_stocks_5yr/MSFT_data.csv  \n",
            "  inflating: individual_stocks_5yr/individual_stocks_5yr/MSI_data.csv  \n",
            "  inflating: individual_stocks_5yr/individual_stocks_5yr/MS_data.csv  \n",
            "  inflating: individual_stocks_5yr/individual_stocks_5yr/MTB_data.csv  \n",
            "  inflating: individual_stocks_5yr/individual_stocks_5yr/MTD_data.csv  \n",
            "  inflating: individual_stocks_5yr/individual_stocks_5yr/MU_data.csv  \n",
            "  inflating: individual_stocks_5yr/individual_stocks_5yr/MYL_data.csv  \n",
            "  inflating: individual_stocks_5yr/individual_stocks_5yr/M_data.csv  \n",
            "  inflating: individual_stocks_5yr/individual_stocks_5yr/NAVI_data.csv  \n",
            "  inflating: individual_stocks_5yr/individual_stocks_5yr/NBL_data.csv  \n",
            "  inflating: individual_stocks_5yr/individual_stocks_5yr/NCLH_data.csv  \n",
            "  inflating: individual_stocks_5yr/individual_stocks_5yr/NDAQ_data.csv  \n",
            "  inflating: individual_stocks_5yr/individual_stocks_5yr/NEE_data.csv  \n",
            "  inflating: individual_stocks_5yr/individual_stocks_5yr/NEM_data.csv  \n",
            "  inflating: individual_stocks_5yr/individual_stocks_5yr/NFLX_data.csv  \n",
            "  inflating: individual_stocks_5yr/individual_stocks_5yr/NFX_data.csv  \n",
            "  inflating: individual_stocks_5yr/individual_stocks_5yr/NI_data.csv  \n",
            "  inflating: individual_stocks_5yr/individual_stocks_5yr/NKE_data.csv  \n",
            "  inflating: individual_stocks_5yr/individual_stocks_5yr/NLSN_data.csv  \n",
            "  inflating: individual_stocks_5yr/individual_stocks_5yr/NOC_data.csv  \n",
            "  inflating: individual_stocks_5yr/individual_stocks_5yr/NOV_data.csv  \n",
            "  inflating: individual_stocks_5yr/individual_stocks_5yr/NRG_data.csv  \n",
            "  inflating: individual_stocks_5yr/individual_stocks_5yr/NSC_data.csv  \n",
            "  inflating: individual_stocks_5yr/individual_stocks_5yr/NTAP_data.csv  \n",
            "  inflating: individual_stocks_5yr/individual_stocks_5yr/NTRS_data.csv  \n",
            "  inflating: individual_stocks_5yr/individual_stocks_5yr/NUE_data.csv  \n",
            "  inflating: individual_stocks_5yr/individual_stocks_5yr/NVDA_data.csv  \n",
            "  inflating: individual_stocks_5yr/individual_stocks_5yr/NWL_data.csv  \n",
            "  inflating: individual_stocks_5yr/individual_stocks_5yr/NWSA_data.csv  \n",
            "  inflating: individual_stocks_5yr/individual_stocks_5yr/NWS_data.csv  \n",
            "  inflating: individual_stocks_5yr/individual_stocks_5yr/OKE_data.csv  \n",
            "  inflating: individual_stocks_5yr/individual_stocks_5yr/OMC_data.csv  \n",
            "  inflating: individual_stocks_5yr/individual_stocks_5yr/ORCL_data.csv  \n",
            "  inflating: individual_stocks_5yr/individual_stocks_5yr/ORLY_data.csv  \n",
            "  inflating: individual_stocks_5yr/individual_stocks_5yr/OXY_data.csv  \n",
            "  inflating: individual_stocks_5yr/individual_stocks_5yr/O_data.csv  \n",
            "  inflating: individual_stocks_5yr/individual_stocks_5yr/PAYX_data.csv  \n",
            "  inflating: individual_stocks_5yr/individual_stocks_5yr/PBCT_data.csv  \n",
            "  inflating: individual_stocks_5yr/individual_stocks_5yr/PCAR_data.csv  \n",
            "  inflating: individual_stocks_5yr/individual_stocks_5yr/PCG_data.csv  \n",
            "  inflating: individual_stocks_5yr/individual_stocks_5yr/PCLN_data.csv  \n",
            "  inflating: individual_stocks_5yr/individual_stocks_5yr/PDCO_data.csv  \n",
            "  inflating: individual_stocks_5yr/individual_stocks_5yr/PEG_data.csv  \n",
            "  inflating: individual_stocks_5yr/individual_stocks_5yr/PEP_data.csv  \n",
            "  inflating: individual_stocks_5yr/individual_stocks_5yr/PFE_data.csv  \n",
            "  inflating: individual_stocks_5yr/individual_stocks_5yr/PFG_data.csv  \n",
            "  inflating: individual_stocks_5yr/individual_stocks_5yr/PGR_data.csv  \n",
            "  inflating: individual_stocks_5yr/individual_stocks_5yr/PG_data.csv  \n",
            "  inflating: individual_stocks_5yr/individual_stocks_5yr/PHM_data.csv  \n",
            "  inflating: individual_stocks_5yr/individual_stocks_5yr/PH_data.csv  \n",
            "  inflating: individual_stocks_5yr/individual_stocks_5yr/PKG_data.csv  \n",
            "  inflating: individual_stocks_5yr/individual_stocks_5yr/PKI_data.csv  \n",
            "  inflating: individual_stocks_5yr/individual_stocks_5yr/PLD_data.csv  \n",
            "  inflating: individual_stocks_5yr/individual_stocks_5yr/PM_data.csv  \n",
            "  inflating: individual_stocks_5yr/individual_stocks_5yr/PNC_data.csv  \n",
            "  inflating: individual_stocks_5yr/individual_stocks_5yr/PNR_data.csv  \n",
            "  inflating: individual_stocks_5yr/individual_stocks_5yr/PNW_data.csv  \n",
            "  inflating: individual_stocks_5yr/individual_stocks_5yr/PPG_data.csv  \n",
            "  inflating: individual_stocks_5yr/individual_stocks_5yr/PPL_data.csv  \n",
            "  inflating: individual_stocks_5yr/individual_stocks_5yr/PRGO_data.csv  \n",
            "  inflating: individual_stocks_5yr/individual_stocks_5yr/PRU_data.csv  \n",
            "  inflating: individual_stocks_5yr/individual_stocks_5yr/PSA_data.csv  \n",
            "  inflating: individual_stocks_5yr/individual_stocks_5yr/PSX_data.csv  \n",
            "  inflating: individual_stocks_5yr/individual_stocks_5yr/PVH_data.csv  \n",
            "  inflating: individual_stocks_5yr/individual_stocks_5yr/PWR_data.csv  \n",
            "  inflating: individual_stocks_5yr/individual_stocks_5yr/PXD_data.csv  \n",
            "  inflating: individual_stocks_5yr/individual_stocks_5yr/PX_data.csv  \n",
            "  inflating: individual_stocks_5yr/individual_stocks_5yr/PYPL_data.csv  \n",
            "  inflating: individual_stocks_5yr/individual_stocks_5yr/QCOM_data.csv  \n",
            "  inflating: individual_stocks_5yr/individual_stocks_5yr/QRVO_data.csv  \n",
            "  inflating: individual_stocks_5yr/individual_stocks_5yr/RCL_data.csv  \n",
            "  inflating: individual_stocks_5yr/individual_stocks_5yr/REGN_data.csv  \n",
            "  inflating: individual_stocks_5yr/individual_stocks_5yr/REG_data.csv  \n",
            "  inflating: individual_stocks_5yr/individual_stocks_5yr/RE_data.csv  \n",
            "  inflating: individual_stocks_5yr/individual_stocks_5yr/RF_data.csv  \n",
            "  inflating: individual_stocks_5yr/individual_stocks_5yr/RHI_data.csv  \n",
            "  inflating: individual_stocks_5yr/individual_stocks_5yr/RHT_data.csv  \n",
            "  inflating: individual_stocks_5yr/individual_stocks_5yr/RJF_data.csv  \n",
            "  inflating: individual_stocks_5yr/individual_stocks_5yr/RL_data.csv  \n",
            "  inflating: individual_stocks_5yr/individual_stocks_5yr/RMD_data.csv  \n",
            "  inflating: individual_stocks_5yr/individual_stocks_5yr/ROK_data.csv  \n",
            "  inflating: individual_stocks_5yr/individual_stocks_5yr/ROP_data.csv  \n",
            "  inflating: individual_stocks_5yr/individual_stocks_5yr/ROST_data.csv  \n",
            "  inflating: individual_stocks_5yr/individual_stocks_5yr/RRC_data.csv  \n",
            "  inflating: individual_stocks_5yr/individual_stocks_5yr/RSG_data.csv  \n",
            "  inflating: individual_stocks_5yr/individual_stocks_5yr/RTN_data.csv  \n",
            "  inflating: individual_stocks_5yr/individual_stocks_5yr/SBAC_data.csv  \n",
            "  inflating: individual_stocks_5yr/individual_stocks_5yr/SBUX_data.csv  \n",
            "  inflating: individual_stocks_5yr/individual_stocks_5yr/SCG_data.csv  \n",
            "  inflating: individual_stocks_5yr/individual_stocks_5yr/SCHW_data.csv  \n",
            "  inflating: individual_stocks_5yr/individual_stocks_5yr/SEE_data.csv  \n",
            "  inflating: individual_stocks_5yr/individual_stocks_5yr/SHW_data.csv  \n",
            "  inflating: individual_stocks_5yr/individual_stocks_5yr/SIG_data.csv  \n",
            "  inflating: individual_stocks_5yr/individual_stocks_5yr/SJM_data.csv  \n",
            "  inflating: individual_stocks_5yr/individual_stocks_5yr/SLB_data.csv  \n",
            "  inflating: individual_stocks_5yr/individual_stocks_5yr/SLG_data.csv  \n",
            "  inflating: individual_stocks_5yr/individual_stocks_5yr/SNA_data.csv  \n",
            "  inflating: individual_stocks_5yr/individual_stocks_5yr/SNI_data.csv  \n",
            "  inflating: individual_stocks_5yr/individual_stocks_5yr/SNPS_data.csv  \n",
            "  inflating: individual_stocks_5yr/individual_stocks_5yr/SO_data.csv  \n",
            "  inflating: individual_stocks_5yr/individual_stocks_5yr/SPGI_data.csv  \n",
            "  inflating: individual_stocks_5yr/individual_stocks_5yr/SPG_data.csv  \n",
            "  inflating: individual_stocks_5yr/individual_stocks_5yr/SRCL_data.csv  \n",
            "  inflating: individual_stocks_5yr/individual_stocks_5yr/SRE_data.csv  \n",
            "  inflating: individual_stocks_5yr/individual_stocks_5yr/STI_data.csv  \n",
            "  inflating: individual_stocks_5yr/individual_stocks_5yr/STT_data.csv  \n",
            "  inflating: individual_stocks_5yr/individual_stocks_5yr/STX_data.csv  \n",
            "  inflating: individual_stocks_5yr/individual_stocks_5yr/STZ_data.csv  \n",
            "  inflating: individual_stocks_5yr/individual_stocks_5yr/SWKS_data.csv  \n",
            "  inflating: individual_stocks_5yr/individual_stocks_5yr/SWK_data.csv  \n",
            "  inflating: individual_stocks_5yr/individual_stocks_5yr/SYF_data.csv  \n",
            "  inflating: individual_stocks_5yr/individual_stocks_5yr/SYK_data.csv  \n",
            "  inflating: individual_stocks_5yr/individual_stocks_5yr/SYMC_data.csv  \n",
            "  inflating: individual_stocks_5yr/individual_stocks_5yr/SYY_data.csv  \n",
            "  inflating: individual_stocks_5yr/individual_stocks_5yr/TAP_data.csv  \n",
            "  inflating: individual_stocks_5yr/individual_stocks_5yr/TDG_data.csv  \n",
            "  inflating: individual_stocks_5yr/individual_stocks_5yr/TEL_data.csv  \n",
            "  inflating: individual_stocks_5yr/individual_stocks_5yr/TGT_data.csv  \n",
            "  inflating: individual_stocks_5yr/individual_stocks_5yr/TIF_data.csv  \n",
            "  inflating: individual_stocks_5yr/individual_stocks_5yr/TJX_data.csv  \n",
            "  inflating: individual_stocks_5yr/individual_stocks_5yr/TMK_data.csv  \n",
            "  inflating: individual_stocks_5yr/individual_stocks_5yr/TMO_data.csv  \n",
            "  inflating: individual_stocks_5yr/individual_stocks_5yr/TPR_data.csv  \n",
            "  inflating: individual_stocks_5yr/individual_stocks_5yr/TRIP_data.csv  \n",
            "  inflating: individual_stocks_5yr/individual_stocks_5yr/TROW_data.csv  \n",
            "  inflating: individual_stocks_5yr/individual_stocks_5yr/TRV_data.csv  \n",
            "  inflating: individual_stocks_5yr/individual_stocks_5yr/TSCO_data.csv  \n",
            "  inflating: individual_stocks_5yr/individual_stocks_5yr/TSN_data.csv  \n",
            "  inflating: individual_stocks_5yr/individual_stocks_5yr/TSS_data.csv  \n",
            "  inflating: individual_stocks_5yr/individual_stocks_5yr/TWX_data.csv  \n",
            "  inflating: individual_stocks_5yr/individual_stocks_5yr/TXN_data.csv  \n",
            "  inflating: individual_stocks_5yr/individual_stocks_5yr/TXT_data.csv  \n",
            "  inflating: individual_stocks_5yr/individual_stocks_5yr/T_data.csv  \n",
            "  inflating: individual_stocks_5yr/individual_stocks_5yr/UAA_data.csv  \n",
            "  inflating: individual_stocks_5yr/individual_stocks_5yr/UAL_data.csv  \n",
            "  inflating: individual_stocks_5yr/individual_stocks_5yr/UA_data.csv  \n",
            "  inflating: individual_stocks_5yr/individual_stocks_5yr/UDR_data.csv  \n",
            "  inflating: individual_stocks_5yr/individual_stocks_5yr/UHS_data.csv  \n",
            "  inflating: individual_stocks_5yr/individual_stocks_5yr/ULTA_data.csv  \n",
            "  inflating: individual_stocks_5yr/individual_stocks_5yr/UNH_data.csv  \n",
            "  inflating: individual_stocks_5yr/individual_stocks_5yr/UNM_data.csv  \n",
            "  inflating: individual_stocks_5yr/individual_stocks_5yr/UNP_data.csv  \n",
            "  inflating: individual_stocks_5yr/individual_stocks_5yr/UPS_data.csv  \n",
            "  inflating: individual_stocks_5yr/individual_stocks_5yr/URI_data.csv  \n",
            "  inflating: individual_stocks_5yr/individual_stocks_5yr/USB_data.csv  \n",
            "  inflating: individual_stocks_5yr/individual_stocks_5yr/UTX_data.csv  \n",
            "  inflating: individual_stocks_5yr/individual_stocks_5yr/VAR_data.csv  \n",
            "  inflating: individual_stocks_5yr/individual_stocks_5yr/VFC_data.csv  \n",
            "  inflating: individual_stocks_5yr/individual_stocks_5yr/VIAB_data.csv  \n",
            "  inflating: individual_stocks_5yr/individual_stocks_5yr/VLO_data.csv  \n",
            "  inflating: individual_stocks_5yr/individual_stocks_5yr/VMC_data.csv  \n",
            "  inflating: individual_stocks_5yr/individual_stocks_5yr/VNO_data.csv  \n",
            "  inflating: individual_stocks_5yr/individual_stocks_5yr/VRSK_data.csv  \n",
            "  inflating: individual_stocks_5yr/individual_stocks_5yr/VRSN_data.csv  \n",
            "  inflating: individual_stocks_5yr/individual_stocks_5yr/VRTX_data.csv  \n",
            "  inflating: individual_stocks_5yr/individual_stocks_5yr/VTR_data.csv  \n",
            "  inflating: individual_stocks_5yr/individual_stocks_5yr/VZ_data.csv  \n",
            "  inflating: individual_stocks_5yr/individual_stocks_5yr/V_data.csv  \n",
            "  inflating: individual_stocks_5yr/individual_stocks_5yr/WAT_data.csv  \n",
            "  inflating: individual_stocks_5yr/individual_stocks_5yr/WBA_data.csv  \n",
            "  inflating: individual_stocks_5yr/individual_stocks_5yr/WDC_data.csv  \n",
            "  inflating: individual_stocks_5yr/individual_stocks_5yr/WEC_data.csv  \n",
            "  inflating: individual_stocks_5yr/individual_stocks_5yr/WFC_data.csv  \n",
            "  inflating: individual_stocks_5yr/individual_stocks_5yr/WHR_data.csv  \n",
            "  inflating: individual_stocks_5yr/individual_stocks_5yr/WLTW_data.csv  \n",
            "  inflating: individual_stocks_5yr/individual_stocks_5yr/WMB_data.csv  \n",
            "  inflating: individual_stocks_5yr/individual_stocks_5yr/WMT_data.csv  \n",
            "  inflating: individual_stocks_5yr/individual_stocks_5yr/WM_data.csv  \n",
            "  inflating: individual_stocks_5yr/individual_stocks_5yr/WRK_data.csv  \n",
            "  inflating: individual_stocks_5yr/individual_stocks_5yr/WU_data.csv  \n",
            "  inflating: individual_stocks_5yr/individual_stocks_5yr/WYNN_data.csv  \n",
            "  inflating: individual_stocks_5yr/individual_stocks_5yr/WYN_data.csv  \n",
            "  inflating: individual_stocks_5yr/individual_stocks_5yr/WY_data.csv  \n",
            "  inflating: individual_stocks_5yr/individual_stocks_5yr/XEC_data.csv  \n",
            "  inflating: individual_stocks_5yr/individual_stocks_5yr/XEL_data.csv  \n",
            "  inflating: individual_stocks_5yr/individual_stocks_5yr/XLNX_data.csv  \n",
            "  inflating: individual_stocks_5yr/individual_stocks_5yr/XL_data.csv  \n",
            "  inflating: individual_stocks_5yr/individual_stocks_5yr/XOM_data.csv  \n",
            "  inflating: individual_stocks_5yr/individual_stocks_5yr/XRAY_data.csv  \n",
            "  inflating: individual_stocks_5yr/individual_stocks_5yr/XRX_data.csv  \n",
            "  inflating: individual_stocks_5yr/individual_stocks_5yr/XYL_data.csv  \n",
            "  inflating: individual_stocks_5yr/individual_stocks_5yr/YUM_data.csv  \n",
            "  inflating: individual_stocks_5yr/individual_stocks_5yr/ZBH_data.csv  \n",
            "  inflating: individual_stocks_5yr/individual_stocks_5yr/ZION_data.csv  \n",
            "  inflating: individual_stocks_5yr/individual_stocks_5yr/ZTS_data.csv  \n",
            "  inflating: merge.sh                \n"
          ]
        }
      ]
    },
    {
      "cell_type": "code",
      "source": [
        "from pyspark.sql import SparkSession\n",
        "from pyspark.sql.functions import length, col, countDistinct\n",
        "\n"
      ],
      "metadata": {
        "id": "re-JWLQSljLF"
      },
      "execution_count": 63,
      "outputs": []
    },
    {
      "cell_type": "code",
      "source": [
        "spark= SparkSession.builder.master(\"local[*]\").getOrCreate()"
      ],
      "metadata": {
        "id": "3YFY6kh98Dzf"
      },
      "execution_count": null,
      "outputs": []
    },
    {
      "cell_type": "code",
      "source": [
        "df = spark.read.csv(\"/content/all_stocks_5yr.csv\", header=True)"
      ],
      "metadata": {
        "id": "NJe7W8cClwKO"
      },
      "execution_count": 7,
      "outputs": []
    },
    {
      "cell_type": "code",
      "source": [
        "df.show()"
      ],
      "metadata": {
        "colab": {
          "base_uri": "https://localhost:8080/"
        },
        "id": "Ye2kk2YDl1Ha",
        "outputId": "86b238d6-3cef-42c2-81bf-414ed05556da"
      },
      "execution_count": 8,
      "outputs": [
        {
          "output_type": "stream",
          "name": "stdout",
          "text": [
            "+----------+-----+-----+-----+-----+--------+----+\n",
            "|      date| open| high|  low|close|  volume|Name|\n",
            "+----------+-----+-----+-----+-----+--------+----+\n",
            "|2013-02-08|15.07|15.12|14.63|14.75| 8407500| AAL|\n",
            "|2013-02-11|14.89|15.01|14.26|14.46| 8882000| AAL|\n",
            "|2013-02-12|14.45|14.51| 14.1|14.27| 8126000| AAL|\n",
            "|2013-02-13| 14.3|14.94|14.25|14.66|10259500| AAL|\n",
            "|2013-02-14|14.94|14.96|13.16|13.99|31879900| AAL|\n",
            "|2013-02-15|13.93|14.61|13.93| 14.5|15628000| AAL|\n",
            "|2013-02-19|14.33|14.56|14.08|14.26|11354400| AAL|\n",
            "|2013-02-20|14.17|14.26|13.15|13.33|14725200| AAL|\n",
            "|2013-02-21|13.62|13.95| 12.9|13.37|11922100| AAL|\n",
            "|2013-02-22|13.57| 13.6|13.21|13.57| 6071400| AAL|\n",
            "|2013-02-25| 13.6|13.76| 13.0|13.02| 7186400| AAL|\n",
            "|2013-02-26|13.14|13.42| 12.7|13.26| 9419000| AAL|\n",
            "|2013-02-27|13.28|13.62|13.18|13.41| 7390500| AAL|\n",
            "|2013-02-28|13.49|13.63|13.39|13.43| 6143600| AAL|\n",
            "|2013-03-01|13.37|13.95|13.32|13.61| 7376800| AAL|\n",
            "|2013-03-04| 13.5|14.07|13.47| 13.9| 8174800| AAL|\n",
            "|2013-03-05|14.01|14.05|13.71|14.05| 7676100| AAL|\n",
            "|2013-03-06|14.52|14.68|14.25|14.57|13243200| AAL|\n",
            "|2013-03-07| 14.7|14.93| 14.5|14.82| 9125300| AAL|\n",
            "|2013-03-08|14.99| 15.2|14.84|14.92|10593700| AAL|\n",
            "+----------+-----+-----+-----+-----+--------+----+\n",
            "only showing top 20 rows\n",
            "\n"
          ]
        }
      ]
    },
    {
      "cell_type": "markdown",
      "source": [
        "### Descrição sobre o dataset"
      ],
      "metadata": {
        "id": "hqfTguK3noh3"
      }
    },
    {
      "cell_type": "code",
      "source": [
        "df.describe().show()"
      ],
      "metadata": {
        "colab": {
          "base_uri": "https://localhost:8080/"
        },
        "id": "i7VHIfhgl6OA",
        "outputId": "1582c26f-a4ff-40be-ae09-5369647563fd"
      },
      "execution_count": 9,
      "outputs": [
        {
          "output_type": "stream",
          "name": "stdout",
          "text": [
            "+-------+----------+-----------------+-----------------+-----------------+-----------------+-----------------+------+\n",
            "|summary|      date|             open|             high|              low|            close|           volume|  Name|\n",
            "+-------+----------+-----------------+-----------------+-----------------+-----------------+-----------------+------+\n",
            "|  count|    619040|           619029|           619032|           619032|           619040|           619040|619040|\n",
            "|   mean|      NULL|83.02333431454696|83.77831069346465|82.25609641375786|83.04376276476573|4321823.395568945|  NULL|\n",
            "| stddev|      NULL| 97.3787690433231|  98.207518904464| 96.5074210580914|97.38974800165752|8693609.511967659|  NULL|\n",
            "|    min|2013-02-08|             1.62|             1.69|              1.5|             1.59|                0|     A|\n",
            "|    max|2018-02-07|           999.47|           999.75|           999.48|            999.6|           999994|   ZTS|\n",
            "+-------+----------+-----------------+-----------------+-----------------+-----------------+-----------------+------+\n",
            "\n"
          ]
        }
      ]
    },
    {
      "cell_type": "markdown",
      "source": [
        "### Registro sobre a apple"
      ],
      "metadata": {
        "id": "rHrsUXOwntT-"
      }
    },
    {
      "cell_type": "code",
      "source": [
        "aapl = df.filter(df.Name == \"AAPL\")\n",
        "aapl_cont = aapl.count()\n",
        "print(aapl_cont)"
      ],
      "metadata": {
        "colab": {
          "base_uri": "https://localhost:8080/"
        },
        "id": "XFL9kwbbmwiy",
        "outputId": "5b0f7e3a-9d0b-4cbb-d264-c758a9ecea44"
      },
      "execution_count": 13,
      "outputs": [
        {
          "output_type": "stream",
          "name": "stdout",
          "text": [
            "1259\n"
          ]
        }
      ]
    },
    {
      "cell_type": "markdown",
      "source": [
        "### Empresas distintas"
      ],
      "metadata": {
        "id": "uL3zuLBOoDma"
      }
    },
    {
      "cell_type": "code",
      "source": [
        "empresas_distintas = df.select(\"Name\").distinct().count()\n",
        "print(empresas_distintas)"
      ],
      "metadata": {
        "colab": {
          "base_uri": "https://localhost:8080/"
        },
        "id": "2jm2jA-6n6-1",
        "outputId": "f40349d9-ab3d-46a4-8bcb-1dcfaacd5329"
      },
      "execution_count": 14,
      "outputs": [
        {
          "output_type": "stream",
          "name": "stdout",
          "text": [
            "505\n"
          ]
        }
      ]
    },
    {
      "cell_type": "markdown",
      "source": [
        "### Frequencia com que o preço de uma ação no fechamento é maior que o preço na abertura"
      ],
      "metadata": {
        "id": "nEE4xoTmoVVf"
      }
    },
    {
      "cell_type": "code",
      "source": [
        "# filtro para fechamentos maior\n",
        "fechamento_maior_abertura = df.filter(df.close > df.open)\n",
        "contagem_maior_abertura = fechamento_maior_abertura.count()\n",
        "total = df.count()\n",
        "frequencia_maior_abertura = contagem_maior_abertura / total\n",
        "print(frequencia_maior_abertura*100)"
      ],
      "metadata": {
        "colab": {
          "base_uri": "https://localhost:8080/"
        },
        "id": "bRDc6X4upO4t",
        "outputId": "b1f0cc29-8b65-44b8-ca18-410fd37f9b44"
      },
      "execution_count": 19,
      "outputs": [
        {
          "output_type": "stream",
          "name": "stdout",
          "text": [
            "51.52171103644353\n"
          ]
        }
      ]
    },
    {
      "cell_type": "markdown",
      "source": [
        "### Qual o maior valor das ações da Apple (AAPL) na Historia ?"
      ],
      "metadata": {
        "id": "WxMowhwyq8Y9"
      }
    },
    {
      "cell_type": "code",
      "source": [
        "aapl_max = aapl.agg({\"High\": \"max\"}).collect()[0][0]\n",
        "print(aapl_max)"
      ],
      "metadata": {
        "colab": {
          "base_uri": "https://localhost:8080/"
        },
        "id": "LB71Vhldq6aM",
        "outputId": "a1c15a4c-3012-44c0-b143-2dcd09311314"
      },
      "execution_count": 21,
      "outputs": [
        {
          "output_type": "stream",
          "name": "stdout",
          "text": [
            "99.99\n"
          ]
        }
      ]
    },
    {
      "cell_type": "code",
      "source": [
        "apple_maximo = df.filter(df.Name == \"AAPL\")\n",
        "apple_maximo.describe().show()"
      ],
      "metadata": {
        "colab": {
          "base_uri": "https://localhost:8080/"
        },
        "id": "-ZXYCxQw9IS8",
        "outputId": "2347d3b5-dc95-4fae-ec4e-a3f795f180cf"
      },
      "execution_count": 68,
      "outputs": [
        {
          "output_type": "stream",
          "name": "stdout",
          "text": [
            "+-------+----------+------------------+------------------+------------------+------------------+-------------------+----+\n",
            "|summary|      date|              open|              high|               low|             close|             volume|Name|\n",
            "+-------+----------+------------------+------------------+------------------+------------------+-------------------+----+\n",
            "|  count|      1259|              1259|              1259|              1259|              1259|               1259|1259|\n",
            "|   mean|      NULL|109.05542891183475|109.95111834789516|108.14158888006372|109.06669849086583|5.404789973550437E7|NULL|\n",
            "| stddev|      NULL| 30.54922002458826|30.686186407983914|30.376223585852472|30.556811676964696|  3.3468353335784E7|NULL|\n",
            "|    min|2013-02-08|             100.0|             100.0|            100.11|            100.11|          100091990|AAPL|\n",
            "|    max|2018-02-07|             99.95|             99.99|             99.95|             99.99|           99756489|AAPL|\n",
            "+-------+----------+------------------+------------------+------------------+------------------+-------------------+----+\n",
            "\n"
          ]
        }
      ]
    },
    {
      "cell_type": "markdown",
      "source": [
        "### Qual ação tem a maior volatilidade?"
      ],
      "metadata": {
        "id": "uIkTqdLBrvlu"
      }
    },
    {
      "cell_type": "markdown",
      "source": [
        "## Vamos calcular o desvio padrão e depois ordenar e pegar o nome e a maior volatilidade\n",
        "\n",
        "---\n",
        "\n"
      ],
      "metadata": {
        "id": "Tj5ORuUMsB77"
      }
    },
    {
      "cell_type": "code",
      "source": [
        "from pyspark.sql.functions import stddev, col\n",
        "\n",
        "# Calcular o desvio padrão do preço de fechamento para cada ação\n",
        "volatilidade = df.groupBy('Name').agg(stddev('Close').alias('Volatility'))\n",
        "# Ordenar as ações pela maior volatilidade\n",
        "ordena_volatilidade = volatilidade.orderBy(col('Volatility').desc()).first()\n",
        "\n",
        "# Mostrar a ação com a maior volatilidade e o valor da volatilidade\n",
        "print(f\"A ação com a maior volatilidade é {ordena_volatilidade['Name']} com uma volatilidade de {ordena_volatilidade['Volatility']:.2f}\")\n"
      ],
      "metadata": {
        "colab": {
          "base_uri": "https://localhost:8080/"
        },
        "id": "30Tg-oXKsFO3",
        "outputId": "93361ccd-be15-4b63-d150-ec9857c4b1a2"
      },
      "execution_count": 24,
      "outputs": [
        {
          "output_type": "stream",
          "name": "stdout",
          "text": [
            "A ação com a maior volatilidade é PCLN com uma volatilidade de 320.53\n"
          ]
        }
      ]
    },
    {
      "cell_type": "markdown",
      "source": [
        "### Qual dia com maior volume total de negociação da bolsa"
      ],
      "metadata": {
        "id": "0MY6nLqAvehY"
      }
    },
    {
      "cell_type": "code",
      "source": [
        "maior_dia = df.groupBy('date').agg({'volume': 'sum'}).orderBy(col('sum(volume)').desc()).first()\n",
        "maior_dia"
      ],
      "metadata": {
        "colab": {
          "base_uri": "https://localhost:8080/"
        },
        "id": "EbvsLokctaAt",
        "outputId": "22e57fc5-b61f-4b7b-af85-28a3613c6861"
      },
      "execution_count": 26,
      "outputs": [
        {
          "output_type": "execute_result",
          "data": {
            "text/plain": [
              "Row(date='2015-08-24', sum(volume)=4607945196.0)"
            ]
          },
          "metadata": {},
          "execution_count": 26
        }
      ]
    },
    {
      "cell_type": "markdown",
      "source": [
        "### Qual a ação mais negociada da bolsa , em volume"
      ],
      "metadata": {
        "id": "6pBfbf7IxWa6"
      }
    },
    {
      "cell_type": "code",
      "source": [
        "maior_acao = df.groupBy('Name').agg({'volume': 'sum'}).orderBy(col('sum(volume)').desc()).first()\n",
        "maior_acao"
      ],
      "metadata": {
        "colab": {
          "base_uri": "https://localhost:8080/"
        },
        "id": "Vvf07dKFxcLc",
        "outputId": "81bb5dc4-aa2a-4e27-a9e2-24b29c495ee4"
      },
      "execution_count": 27,
      "outputs": [
        {
          "output_type": "execute_result",
          "data": {
            "text/plain": [
              "Row(Name='BAC', sum(volume)=117884953591.0)"
            ]
          },
          "metadata": {},
          "execution_count": 27
        }
      ]
    },
    {
      "cell_type": "markdown",
      "source": [
        "#### Quantas ações começam com a letra A"
      ],
      "metadata": {
        "id": "OQJhIaVnxlzc"
      }
    },
    {
      "cell_type": "code",
      "source": [
        "start_a = df.filter(df.Name.startswith('A')).distinct().count()\n",
        "start_a"
      ],
      "metadata": {
        "colab": {
          "base_uri": "https://localhost:8080/"
        },
        "id": "yS2yFiTtxtWF",
        "outputId": "09907708-805f-487b-fcbc-9ced9ad0c7a9"
      },
      "execution_count": 65,
      "outputs": [
        {
          "output_type": "execute_result",
          "data": {
            "text/plain": [
              "72870"
            ]
          },
          "metadata": {},
          "execution_count": 65
        }
      ]
    },
    {
      "cell_type": "markdown",
      "source": [
        "### Com qual frequencia o preço mais alto do dia da ação tambem é o preço de fechamento?"
      ],
      "metadata": {
        "id": "yH1lxrbpxypY"
      }
    },
    {
      "cell_type": "code",
      "source": [
        "freq_maior_preco_fechamento = df.filter(df.high == df.close).count()\n",
        "print(f\"Quantidade de fechamentos que é igual ao fechamento:{freq_maior_preco_fechamento} \" )\n",
        "\n",
        "percentual_maior_preco_fechamento = (freq_maior_preco_fechamento / df.count()) * 100\n",
        "print(f\"Percentual de fechamentos que é igual ao fechamento:{percentual_maior_preco_fechamento:.2f}%\")"
      ],
      "metadata": {
        "colab": {
          "base_uri": "https://localhost:8080/"
        },
        "id": "2pdLpxNxx8U7",
        "outputId": "e13b24e9-3d4a-4455-97bf-fdf3cbd55f94"
      },
      "execution_count": 34,
      "outputs": [
        {
          "output_type": "stream",
          "name": "stdout",
          "text": [
            "Quantidade de fechamentos que é igual ao fechamento:7420 \n",
            "Percentual de fechamentos que é igual ao fechamento:1.20%\n"
          ]
        }
      ]
    },
    {
      "cell_type": "markdown",
      "source": [
        "### Em qual dia a ação da Apple mais subiu entre a abertura e o fechamento, de forma absoluta e seu grafico."
      ],
      "metadata": {
        "id": "eDY58BBZzWAZ"
      }
    },
    {
      "cell_type": "code",
      "source": [
        "maior_dia_apple = df.filter(df.Name == 'AAPL').withColumn('Diferenca', df.close - df.open).orderBy(col('Diferenca').desc()).first()\n",
        "maior_dia_apple"
      ],
      "metadata": {
        "colab": {
          "base_uri": "https://localhost:8080/"
        },
        "id": "k--gVQIVzgGE",
        "outputId": "75582564-1c8e-4caa-e325-a38670dca675"
      },
      "execution_count": 36,
      "outputs": [
        {
          "output_type": "execute_result",
          "data": {
            "text/plain": [
              "Row(date='2015-08-24', open='94.87', high='108.8', low='92.0', close='103.12', volume='162206292', Name='AAPL', Diferenca=8.25)"
            ]
          },
          "metadata": {},
          "execution_count": 36
        }
      ]
    },
    {
      "cell_type": "code",
      "source": [
        "grafico_maior_dia_apple = df.filter(df.Name == 'AAPL').withColumn('Diferenca', df.close - df.open).orderBy(col('Diferenca').desc())\n",
        "\n",
        "grafico_de_linha = grafico_maior_dia_apple.toPandas()\n",
        "grafico_de_dispeção = grafico_de_linha.plot(x='date', y='Diferenca', kind='line', title='Diferença entre o fechamento e abertura', figsize=(10, 6))"
      ],
      "metadata": {
        "colab": {
          "base_uri": "https://localhost:8080/",
          "height": 564
        },
        "id": "iph1zPVSzpvh",
        "outputId": "1d51559b-7f33-40b5-b1fa-bbdd89934376"
      },
      "execution_count": 43,
      "outputs": [
        {
          "output_type": "display_data",
          "data": {
            "text/plain": [
              "<Figure size 1000x600 with 1 Axes>"
            ],
            "image/png": "[encoded data removed]"
          },
          "metadata": {}
        }
      ]
    },
    {
      "cell_type": "markdown",
      "source": [
        "### Qual a media de volume da APPLE?"
      ],
      "metadata": {
        "id": "9vz9HLrd2Hqa"
      }
    },
    {
      "cell_type": "code",
      "source": [
        "media_apple = df.filter(df.Name == 'AAPL').agg({'volume': 'avg'}).collect()[0][0]\n",
        "media_apple"
      ],
      "metadata": {
        "colab": {
          "base_uri": "https://localhost:8080/"
        },
        "id": "dmtNYAFO2Lrk",
        "outputId": "a0b779cb-4ae2-4768-a9b3-f98dda96ff91"
      },
      "execution_count": 44,
      "outputs": [
        {
          "output_type": "execute_result",
          "data": {
            "text/plain": [
              "54047899.73550437"
            ]
          },
          "metadata": {},
          "execution_count": 44
        }
      ]
    },
    {
      "cell_type": "markdown",
      "source": [
        "##### Quais ações tem 1,2,3,4,e 5 caracteres em seu nome respectivamente?"
      ],
      "metadata": {
        "id": "vml7A_jI2TeU"
      }
    },
    {
      "cell_type": "code",
      "source": [
        "\n",
        "\n",
        "\n",
        "\n",
        "# Criar uma nova coluna com o comprimento dos nomes das ações\n",
        "df_with_length = df.withColumn('name_length', length(col('Name')))\n",
        "\n",
        "# Agrupar pelo comprimento dos nomes e contar o número de nomes distintos para cada comprimento\n",
        "contar_nomes_distintos = df_with_length.groupBy('name_length').agg(countDistinct('Name').alias('distinct_name_count'))\n",
        "\n",
        "# Mostrar o resultado\n",
        "contar_nomes_distintos.show()\n",
        "\n",
        "grafico_histograma = contar_nomes_distintos.toPandas()\n",
        "grafico_histograma.plot(x='name_length', y='distinct_name_count', kind='bar', title='Contagem de Nomes Distintos por Comprimento', figsize=(10, 6))"
      ],
      "metadata": {
        "colab": {
          "base_uri": "https://localhost:8080/",
          "height": 750
        },
        "id": "wvTffjrW2ubY",
        "outputId": "64706a88-bb11-4d24-99c5-0525191eb4ea"
      },
      "execution_count": 60,
      "outputs": [
        {
          "output_type": "stream",
          "name": "stdout",
          "text": [
            "+-----------+-------------------+\n",
            "|name_length|distinct_name_count|\n",
            "+-----------+-------------------+\n",
            "|          1|                 10|\n",
            "|          3|                323|\n",
            "|          5|                  5|\n",
            "|          4|                117|\n",
            "|          2|                 50|\n",
            "+-----------+-------------------+\n",
            "\n"
          ]
        },
        {
          "output_type": "execute_result",
          "data": {
            "text/plain": [
              "<Axes: title={'center': 'Contagem de Nomes Distintos por Comprimento'}, xlabel='name_length'>"
            ]
          },
          "metadata": {},
          "execution_count": 60
        },
        {
          "output_type": "display_data",
          "data": {
            "text/plain": [
              "<Figure size 1000x600 with 1 Axes>"
            ],
            "image/png": "[encoded data removed]"
          },
          "metadata": {}
        }
      ]
    },
    {
      "cell_type": "markdown",
      "source": [
        "### Qual a ação da bolsa menos negociada da bolsa, em volume de transações?"
      ],
      "metadata": {
        "id": "LJB1R6uB6-dJ"
      }
    },
    {
      "cell_type": "code",
      "source": [
        "acao_menos_negociada = df.groupBy('Name').agg({'volume': 'sum'}).orderBy(col('sum(volume)').asc()).first()\n",
        "acao_menos_negociada"
      ],
      "metadata": {
        "colab": {
          "base_uri": "https://localhost:8080/"
        },
        "id": "FjP5M0s17Fxv",
        "outputId": "271ebf3c-6e79-49e1-a4e2-5e1bae46df47"
      },
      "execution_count": 61,
      "outputs": [
        {
          "output_type": "execute_result",
          "data": {
            "text/plain": [
              "Row(Name='APTV', sum(volume)=92947779.0)"
            ]
          },
          "metadata": {},
          "execution_count": 61
        }
      ]
    }
  ]
}